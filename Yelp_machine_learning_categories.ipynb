{
 "cells": [
  {
   "cell_type": "code",
   "execution_count": 1,
   "metadata": {},
   "outputs": [],
   "source": [
    "import re\n",
    "import numpy as np\n",
    "import pandas as pd\n",
    "import warnings\n",
    "warnings.simplefilter(action=\"ignore\")\n",
    "\n",
    "import matplotlib.pyplot as plt\n",
    "import seaborn as sns\n",
    "\n",
    "import xgboost as xgb\n",
    "from sklearn import svm\n",
    "from sklearn.utils import resample\n",
    "from sklearn.ensemble import RandomForestClassifier\n",
    "from sklearn import preprocessing, svm\n",
    "from sklearn.model_selection import train_test_split, KFold, cross_val_score, RandomizedSearchCV, cross_val_predict\n",
    "from sklearn.linear_model import LogisticRegression\n",
    "from sklearn.metrics import precision_recall_curve, plot_precision_recall_curve, plot_confusion_matrix, classification_report\n",
    "import string\n",
    "\n",
    "import tensorflow as tf\n",
    "from tensorflow import keras\n",
    "from tensorflow.keras import backend as K\n",
    "\n",
    "import nltk\n",
    "from nltk.tokenize import RegexpTokenizer\n",
    "from nltk.corpus import stopwords\n",
    "from nltk.stem import PorterStemmer\n",
    "from nltk.stem import WordNetLemmatizer\n",
    "from sklearn.feature_extraction.text import CountVectorizer\n",
    "from sklearn.naive_bayes import BernoulliNB"
   ]
  },
  {
   "cell_type": "code",
   "execution_count": 2,
   "metadata": {},
   "outputs": [],
   "source": [
    "# Load the df dataframe\n",
    "df_ml = pd.read_csv('yelp_ml.csv')"
   ]
  },
  {
   "cell_type": "code",
   "execution_count": 3,
   "metadata": {},
   "outputs": [
    {
     "data": {
      "text/html": [
       "<div>\n",
       "<style scoped>\n",
       "    .dataframe tbody tr th:only-of-type {\n",
       "        vertical-align: middle;\n",
       "    }\n",
       "\n",
       "    .dataframe tbody tr th {\n",
       "        vertical-align: top;\n",
       "    }\n",
       "\n",
       "    .dataframe thead th {\n",
       "        text-align: right;\n",
       "    }\n",
       "</style>\n",
       "<table border=\"1\" class=\"dataframe\">\n",
       "  <thead>\n",
       "    <tr style=\"text-align: right;\">\n",
       "      <th></th>\n",
       "      <th>is_open</th>\n",
       "      <th>business_id</th>\n",
       "      <th>name</th>\n",
       "      <th>stars</th>\n",
       "      <th>review_count</th>\n",
       "      <th>categories</th>\n",
       "      <th>attributes.RestaurantsTableService</th>\n",
       "      <th>attributes.WiFi</th>\n",
       "      <th>attributes.BikeParking</th>\n",
       "      <th>attributes.BusinessAcceptsCreditCards</th>\n",
       "      <th>...</th>\n",
       "      <th>attributes.divey</th>\n",
       "      <th>attributes.trendy</th>\n",
       "      <th>attributes.classy</th>\n",
       "      <th>attributes.casual</th>\n",
       "      <th>attributes.dessert</th>\n",
       "      <th>attributes.latenight</th>\n",
       "      <th>attributes.lunch</th>\n",
       "      <th>attributes.dinner</th>\n",
       "      <th>attributes.brunch</th>\n",
       "      <th>attributes.breakfast</th>\n",
       "    </tr>\n",
       "  </thead>\n",
       "  <tbody>\n",
       "    <tr>\n",
       "      <th>0</th>\n",
       "      <td>1</td>\n",
       "      <td>6iYb2HFDywm3zjuRg0shjw</td>\n",
       "      <td>Oskar Blues Taproom</td>\n",
       "      <td>4.0</td>\n",
       "      <td>86</td>\n",
       "      <td>Gastropubs, Food, Beer Gardens, Restaurants, B...</td>\n",
       "      <td>True</td>\n",
       "      <td>'free'</td>\n",
       "      <td>True</td>\n",
       "      <td>True</td>\n",
       "      <td>...</td>\n",
       "      <td>False</td>\n",
       "      <td>False</td>\n",
       "      <td>False</td>\n",
       "      <td>True</td>\n",
       "      <td>False</td>\n",
       "      <td>False</td>\n",
       "      <td>False</td>\n",
       "      <td>False</td>\n",
       "      <td>False</td>\n",
       "      <td>False</td>\n",
       "    </tr>\n",
       "    <tr>\n",
       "      <th>1</th>\n",
       "      <td>1</td>\n",
       "      <td>tCbdrRPZA0oiIYSmHG3J0w</td>\n",
       "      <td>Flying Elephants at PDX</td>\n",
       "      <td>4.0</td>\n",
       "      <td>126</td>\n",
       "      <td>Salad, Soup, Sandwiches, Delis, Restaurants, C...</td>\n",
       "      <td>Not listed</td>\n",
       "      <td>'free'</td>\n",
       "      <td>False</td>\n",
       "      <td>True</td>\n",
       "      <td>...</td>\n",
       "      <td>False</td>\n",
       "      <td>False</td>\n",
       "      <td>False</td>\n",
       "      <td>True</td>\n",
       "      <td>False</td>\n",
       "      <td>False</td>\n",
       "      <td>True</td>\n",
       "      <td>False</td>\n",
       "      <td>False</td>\n",
       "      <td>True</td>\n",
       "    </tr>\n",
       "    <tr>\n",
       "      <th>2</th>\n",
       "      <td>1</td>\n",
       "      <td>D4JtQNTI4X3KcbzacDJsMw</td>\n",
       "      <td>Bob Likes Thai Food</td>\n",
       "      <td>3.5</td>\n",
       "      <td>169</td>\n",
       "      <td>Restaurants, Thai</td>\n",
       "      <td>Not listed</td>\n",
       "      <td>'no'</td>\n",
       "      <td>True</td>\n",
       "      <td>Not listed</td>\n",
       "      <td>...</td>\n",
       "      <td>False</td>\n",
       "      <td>False</td>\n",
       "      <td>False</td>\n",
       "      <td>True</td>\n",
       "      <td>False</td>\n",
       "      <td>False</td>\n",
       "      <td>True</td>\n",
       "      <td>True</td>\n",
       "      <td>False</td>\n",
       "      <td>False</td>\n",
       "    </tr>\n",
       "    <tr>\n",
       "      <th>3</th>\n",
       "      <td>1</td>\n",
       "      <td>jFYIsSb7r1QeESVUnXPHBw</td>\n",
       "      <td>Boxwood Biscuit</td>\n",
       "      <td>4.5</td>\n",
       "      <td>11</td>\n",
       "      <td>Breakfast &amp; Brunch, Restaurants</td>\n",
       "      <td>Not listed</td>\n",
       "      <td>Not listed</td>\n",
       "      <td>Not listed</td>\n",
       "      <td>Not listed</td>\n",
       "      <td>...</td>\n",
       "      <td>Not listed</td>\n",
       "      <td>Not listed</td>\n",
       "      <td>Not listed</td>\n",
       "      <td>Not listed</td>\n",
       "      <td>Not listed</td>\n",
       "      <td>Not listed</td>\n",
       "      <td>Not listed</td>\n",
       "      <td>Not listed</td>\n",
       "      <td>Not listed</td>\n",
       "      <td>Not listed</td>\n",
       "    </tr>\n",
       "    <tr>\n",
       "      <th>4</th>\n",
       "      <td>1</td>\n",
       "      <td>HPA_qyMEddpAEtFof02ixg</td>\n",
       "      <td>Mr G's Pizza &amp; Subs</td>\n",
       "      <td>4.0</td>\n",
       "      <td>39</td>\n",
       "      <td>Food, Pizza, Restaurants</td>\n",
       "      <td>False</td>\n",
       "      <td>'free'</td>\n",
       "      <td>True</td>\n",
       "      <td>True</td>\n",
       "      <td>...</td>\n",
       "      <td>False</td>\n",
       "      <td>False</td>\n",
       "      <td>False</td>\n",
       "      <td>True</td>\n",
       "      <td>Not listed</td>\n",
       "      <td>Not listed</td>\n",
       "      <td>Not listed</td>\n",
       "      <td>Not listed</td>\n",
       "      <td>Not listed</td>\n",
       "      <td>Not listed</td>\n",
       "    </tr>\n",
       "  </tbody>\n",
       "</table>\n",
       "<p>5 rows × 41 columns</p>\n",
       "</div>"
      ],
      "text/plain": [
       "   is_open             business_id                     name  stars  \\\n",
       "0        1  6iYb2HFDywm3zjuRg0shjw      Oskar Blues Taproom    4.0   \n",
       "1        1  tCbdrRPZA0oiIYSmHG3J0w  Flying Elephants at PDX    4.0   \n",
       "2        1  D4JtQNTI4X3KcbzacDJsMw      Bob Likes Thai Food    3.5   \n",
       "3        1  jFYIsSb7r1QeESVUnXPHBw          Boxwood Biscuit    4.5   \n",
       "4        1  HPA_qyMEddpAEtFof02ixg      Mr G's Pizza & Subs    4.0   \n",
       "\n",
       "   review_count                                         categories  \\\n",
       "0            86  Gastropubs, Food, Beer Gardens, Restaurants, B...   \n",
       "1           126  Salad, Soup, Sandwiches, Delis, Restaurants, C...   \n",
       "2           169                                  Restaurants, Thai   \n",
       "3            11                    Breakfast & Brunch, Restaurants   \n",
       "4            39                           Food, Pizza, Restaurants   \n",
       "\n",
       "  attributes.RestaurantsTableService attributes.WiFi attributes.BikeParking  \\\n",
       "0                               True          'free'                   True   \n",
       "1                         Not listed          'free'                  False   \n",
       "2                         Not listed            'no'                   True   \n",
       "3                         Not listed      Not listed             Not listed   \n",
       "4                              False          'free'                   True   \n",
       "\n",
       "  attributes.BusinessAcceptsCreditCards  ... attributes.divey  \\\n",
       "0                                  True  ...            False   \n",
       "1                                  True  ...            False   \n",
       "2                            Not listed  ...            False   \n",
       "3                            Not listed  ...       Not listed   \n",
       "4                                  True  ...            False   \n",
       "\n",
       "  attributes.trendy attributes.classy attributes.casual attributes.dessert  \\\n",
       "0             False             False              True              False   \n",
       "1             False             False              True              False   \n",
       "2             False             False              True              False   \n",
       "3        Not listed        Not listed        Not listed         Not listed   \n",
       "4             False             False              True         Not listed   \n",
       "\n",
       "  attributes.latenight attributes.lunch attributes.dinner attributes.brunch  \\\n",
       "0                False            False             False             False   \n",
       "1                False             True             False             False   \n",
       "2                False             True              True             False   \n",
       "3           Not listed       Not listed        Not listed        Not listed   \n",
       "4           Not listed       Not listed        Not listed        Not listed   \n",
       "\n",
       "  attributes.breakfast  \n",
       "0                False  \n",
       "1                 True  \n",
       "2                False  \n",
       "3           Not listed  \n",
       "4           Not listed  \n",
       "\n",
       "[5 rows x 41 columns]"
      ]
     },
     "execution_count": 3,
     "metadata": {},
     "output_type": "execute_result"
    }
   ],
   "source": [
    "df_ml.head()"
   ]
  },
  {
   "cell_type": "markdown",
   "metadata": {},
   "source": [
    "# Categories - Natural Language Processing (NLP)"
   ]
  },
  {
   "cell_type": "code",
   "execution_count": 4,
   "metadata": {},
   "outputs": [
    {
     "data": {
      "text/html": [
       "<div>\n",
       "<style scoped>\n",
       "    .dataframe tbody tr th:only-of-type {\n",
       "        vertical-align: middle;\n",
       "    }\n",
       "\n",
       "    .dataframe tbody tr th {\n",
       "        vertical-align: top;\n",
       "    }\n",
       "\n",
       "    .dataframe thead th {\n",
       "        text-align: right;\n",
       "    }\n",
       "</style>\n",
       "<table border=\"1\" class=\"dataframe\">\n",
       "  <thead>\n",
       "    <tr style=\"text-align: right;\">\n",
       "      <th></th>\n",
       "      <th>categories</th>\n",
       "    </tr>\n",
       "  </thead>\n",
       "  <tbody>\n",
       "    <tr>\n",
       "      <th>0</th>\n",
       "      <td>Gastropubs, Food, Beer Gardens, Restaurants, B...</td>\n",
       "    </tr>\n",
       "    <tr>\n",
       "      <th>1</th>\n",
       "      <td>Salad, Soup, Sandwiches, Delis, Restaurants, C...</td>\n",
       "    </tr>\n",
       "    <tr>\n",
       "      <th>2</th>\n",
       "      <td>Restaurants, Thai</td>\n",
       "    </tr>\n",
       "    <tr>\n",
       "      <th>3</th>\n",
       "      <td>Breakfast &amp; Brunch, Restaurants</td>\n",
       "    </tr>\n",
       "    <tr>\n",
       "      <th>4</th>\n",
       "      <td>Food, Pizza, Restaurants</td>\n",
       "    </tr>\n",
       "  </tbody>\n",
       "</table>\n",
       "</div>"
      ],
      "text/plain": [
       "                                          categories\n",
       "0  Gastropubs, Food, Beer Gardens, Restaurants, B...\n",
       "1  Salad, Soup, Sandwiches, Delis, Restaurants, C...\n",
       "2                                  Restaurants, Thai\n",
       "3                    Breakfast & Brunch, Restaurants\n",
       "4                           Food, Pizza, Restaurants"
      ]
     },
     "execution_count": 4,
     "metadata": {},
     "output_type": "execute_result"
    }
   ],
   "source": [
    "# Create a dataframe with only categories\n",
    "df_nlp = df_ml[['categories']]\n",
    "df_nlp.head()"
   ]
  },
  {
   "cell_type": "code",
   "execution_count": 5,
   "metadata": {},
   "outputs": [],
   "source": [
    "# Define a method to remove punctuations\n",
    "def remove_punc(text):\n",
    "    result = ''.join([word for word in text if word not in string.punctuation])\n",
    "    return result"
   ]
  },
  {
   "cell_type": "code",
   "execution_count": 6,
   "metadata": {},
   "outputs": [
    {
     "data": {
      "text/html": [
       "<div>\n",
       "<style scoped>\n",
       "    .dataframe tbody tr th:only-of-type {\n",
       "        vertical-align: middle;\n",
       "    }\n",
       "\n",
       "    .dataframe tbody tr th {\n",
       "        vertical-align: top;\n",
       "    }\n",
       "\n",
       "    .dataframe thead th {\n",
       "        text-align: right;\n",
       "    }\n",
       "</style>\n",
       "<table border=\"1\" class=\"dataframe\">\n",
       "  <thead>\n",
       "    <tr style=\"text-align: right;\">\n",
       "      <th></th>\n",
       "      <th>categories</th>\n",
       "    </tr>\n",
       "  </thead>\n",
       "  <tbody>\n",
       "    <tr>\n",
       "      <th>0</th>\n",
       "      <td>Gastropubs Food Beer Gardens Restaurants Bars ...</td>\n",
       "    </tr>\n",
       "    <tr>\n",
       "      <th>1</th>\n",
       "      <td>Salad Soup Sandwiches Delis Restaurants Cafes ...</td>\n",
       "    </tr>\n",
       "    <tr>\n",
       "      <th>2</th>\n",
       "      <td>Restaurants Thai</td>\n",
       "    </tr>\n",
       "    <tr>\n",
       "      <th>3</th>\n",
       "      <td>Breakfast  Brunch Restaurants</td>\n",
       "    </tr>\n",
       "    <tr>\n",
       "      <th>4</th>\n",
       "      <td>Food Pizza Restaurants</td>\n",
       "    </tr>\n",
       "  </tbody>\n",
       "</table>\n",
       "</div>"
      ],
      "text/plain": [
       "                                          categories\n",
       "0  Gastropubs Food Beer Gardens Restaurants Bars ...\n",
       "1  Salad Soup Sandwiches Delis Restaurants Cafes ...\n",
       "2                                   Restaurants Thai\n",
       "3                      Breakfast  Brunch Restaurants\n",
       "4                             Food Pizza Restaurants"
      ]
     },
     "execution_count": 6,
     "metadata": {},
     "output_type": "execute_result"
    }
   ],
   "source": [
    "# Assign puncutation removed words\n",
    "df_nlp['categories'] = df_nlp['categories'].apply(lambda x: remove_punc(x))\n",
    "df_nlp.head()"
   ]
  },
  {
   "cell_type": "code",
   "execution_count": 7,
   "metadata": {},
   "outputs": [],
   "source": [
    "# Tokenizer\n",
    "tokenizer = RegexpTokenizer(r'\\w+')"
   ]
  },
  {
   "cell_type": "code",
   "execution_count": 8,
   "metadata": {},
   "outputs": [
    {
     "data": {
      "text/html": [
       "<div>\n",
       "<style scoped>\n",
       "    .dataframe tbody tr th:only-of-type {\n",
       "        vertical-align: middle;\n",
       "    }\n",
       "\n",
       "    .dataframe tbody tr th {\n",
       "        vertical-align: top;\n",
       "    }\n",
       "\n",
       "    .dataframe thead th {\n",
       "        text-align: right;\n",
       "    }\n",
       "</style>\n",
       "<table border=\"1\" class=\"dataframe\">\n",
       "  <thead>\n",
       "    <tr style=\"text-align: right;\">\n",
       "      <th></th>\n",
       "      <th>categories</th>\n",
       "    </tr>\n",
       "  </thead>\n",
       "  <tbody>\n",
       "    <tr>\n",
       "      <th>0</th>\n",
       "      <td>[gastropubs, food, beer, gardens, restaurants,...</td>\n",
       "    </tr>\n",
       "    <tr>\n",
       "      <th>1</th>\n",
       "      <td>[salad, soup, sandwiches, delis, restaurants, ...</td>\n",
       "    </tr>\n",
       "    <tr>\n",
       "      <th>2</th>\n",
       "      <td>[restaurants, thai]</td>\n",
       "    </tr>\n",
       "    <tr>\n",
       "      <th>3</th>\n",
       "      <td>[breakfast, brunch, restaurants]</td>\n",
       "    </tr>\n",
       "    <tr>\n",
       "      <th>4</th>\n",
       "      <td>[food, pizza, restaurants]</td>\n",
       "    </tr>\n",
       "  </tbody>\n",
       "</table>\n",
       "</div>"
      ],
      "text/plain": [
       "                                          categories\n",
       "0  [gastropubs, food, beer, gardens, restaurants,...\n",
       "1  [salad, soup, sandwiches, delis, restaurants, ...\n",
       "2                                [restaurants, thai]\n",
       "3                   [breakfast, brunch, restaurants]\n",
       "4                         [food, pizza, restaurants]"
      ]
     },
     "execution_count": 8,
     "metadata": {},
     "output_type": "execute_result"
    }
   ],
   "source": [
    "# Tokenize the words and assign\n",
    "df_nlp['categories'] = df_nlp['categories'].apply(lambda x: tokenizer.tokenize(x.lower()))\n",
    "df_nlp.head()"
   ]
  },
  {
   "cell_type": "code",
   "execution_count": 9,
   "metadata": {},
   "outputs": [],
   "source": [
    "# Define a function to remove stopwords\n",
    "def remove_stopwords(text):\n",
    "    result = [word for word in text if word not in stopwords.words('english')]\n",
    "    return result"
   ]
  },
  {
   "cell_type": "code",
   "execution_count": 10,
   "metadata": {},
   "outputs": [
    {
     "data": {
      "text/html": [
       "<div>\n",
       "<style scoped>\n",
       "    .dataframe tbody tr th:only-of-type {\n",
       "        vertical-align: middle;\n",
       "    }\n",
       "\n",
       "    .dataframe tbody tr th {\n",
       "        vertical-align: top;\n",
       "    }\n",
       "\n",
       "    .dataframe thead th {\n",
       "        text-align: right;\n",
       "    }\n",
       "</style>\n",
       "<table border=\"1\" class=\"dataframe\">\n",
       "  <thead>\n",
       "    <tr style=\"text-align: right;\">\n",
       "      <th></th>\n",
       "      <th>categories</th>\n",
       "    </tr>\n",
       "  </thead>\n",
       "  <tbody>\n",
       "    <tr>\n",
       "      <th>0</th>\n",
       "      <td>[gastropubs, food, beer, gardens, restaurants,...</td>\n",
       "    </tr>\n",
       "    <tr>\n",
       "      <th>1</th>\n",
       "      <td>[salad, soup, sandwiches, delis, restaurants, ...</td>\n",
       "    </tr>\n",
       "    <tr>\n",
       "      <th>2</th>\n",
       "      <td>[restaurants, thai]</td>\n",
       "    </tr>\n",
       "    <tr>\n",
       "      <th>3</th>\n",
       "      <td>[breakfast, brunch, restaurants]</td>\n",
       "    </tr>\n",
       "    <tr>\n",
       "      <th>4</th>\n",
       "      <td>[food, pizza, restaurants]</td>\n",
       "    </tr>\n",
       "  </tbody>\n",
       "</table>\n",
       "</div>"
      ],
      "text/plain": [
       "                                          categories\n",
       "0  [gastropubs, food, beer, gardens, restaurants,...\n",
       "1  [salad, soup, sandwiches, delis, restaurants, ...\n",
       "2                                [restaurants, thai]\n",
       "3                   [breakfast, brunch, restaurants]\n",
       "4                         [food, pizza, restaurants]"
      ]
     },
     "execution_count": 10,
     "metadata": {},
     "output_type": "execute_result"
    }
   ],
   "source": [
    "# Remove stopwords\n",
    "df_nlp['categories'] = df_nlp['categories'].apply(lambda x: remove_stopwords(x))\n",
    "df_nlp.head()"
   ]
  },
  {
   "cell_type": "code",
   "execution_count": 11,
   "metadata": {},
   "outputs": [],
   "source": [
    "# Stemmer\n",
    "stemmer = PorterStemmer()"
   ]
  },
  {
   "cell_type": "code",
   "execution_count": 12,
   "metadata": {},
   "outputs": [],
   "source": [
    "# Define a function for stemming the words\n",
    "def stem_text(text):\n",
    "    result = [stemmer.stem(word) for word in text]\n",
    "    return result"
   ]
  },
  {
   "cell_type": "code",
   "execution_count": 13,
   "metadata": {},
   "outputs": [
    {
     "data": {
      "text/html": [
       "<div>\n",
       "<style scoped>\n",
       "    .dataframe tbody tr th:only-of-type {\n",
       "        vertical-align: middle;\n",
       "    }\n",
       "\n",
       "    .dataframe tbody tr th {\n",
       "        vertical-align: top;\n",
       "    }\n",
       "\n",
       "    .dataframe thead th {\n",
       "        text-align: right;\n",
       "    }\n",
       "</style>\n",
       "<table border=\"1\" class=\"dataframe\">\n",
       "  <thead>\n",
       "    <tr style=\"text-align: right;\">\n",
       "      <th></th>\n",
       "      <th>categories</th>\n",
       "    </tr>\n",
       "  </thead>\n",
       "  <tbody>\n",
       "    <tr>\n",
       "      <th>0</th>\n",
       "      <td>[gastropub, food, beer, garden, restaur, bar, ...</td>\n",
       "    </tr>\n",
       "    <tr>\n",
       "      <th>1</th>\n",
       "      <td>[salad, soup, sandwich, deli, restaur, cafe, v...</td>\n",
       "    </tr>\n",
       "    <tr>\n",
       "      <th>2</th>\n",
       "      <td>[restaur, thai]</td>\n",
       "    </tr>\n",
       "    <tr>\n",
       "      <th>3</th>\n",
       "      <td>[breakfast, brunch, restaur]</td>\n",
       "    </tr>\n",
       "    <tr>\n",
       "      <th>4</th>\n",
       "      <td>[food, pizza, restaur]</td>\n",
       "    </tr>\n",
       "  </tbody>\n",
       "</table>\n",
       "</div>"
      ],
      "text/plain": [
       "                                          categories\n",
       "0  [gastropub, food, beer, garden, restaur, bar, ...\n",
       "1  [salad, soup, sandwich, deli, restaur, cafe, v...\n",
       "2                                    [restaur, thai]\n",
       "3                       [breakfast, brunch, restaur]\n",
       "4                             [food, pizza, restaur]"
      ]
     },
     "execution_count": 13,
     "metadata": {},
     "output_type": "execute_result"
    }
   ],
   "source": [
    "df_nlp['categories'] = df_nlp['categories'].apply(lambda x: stem_text(x))\n",
    "df_nlp.head()"
   ]
  },
  {
   "cell_type": "code",
   "execution_count": 14,
   "metadata": {},
   "outputs": [],
   "source": [
    "# Lemmatize\n",
    "lemmatizer = WordNetLemmatizer()"
   ]
  },
  {
   "cell_type": "code",
   "execution_count": 15,
   "metadata": {},
   "outputs": [],
   "source": [
    "# Define a function to lemmatize\n",
    "def lemmatize(text):\n",
    "    result = [lemmatizer.lemmatize(word) for word in text]\n",
    "    return result"
   ]
  },
  {
   "cell_type": "code",
   "execution_count": 16,
   "metadata": {},
   "outputs": [
    {
     "data": {
      "text/html": [
       "<div>\n",
       "<style scoped>\n",
       "    .dataframe tbody tr th:only-of-type {\n",
       "        vertical-align: middle;\n",
       "    }\n",
       "\n",
       "    .dataframe tbody tr th {\n",
       "        vertical-align: top;\n",
       "    }\n",
       "\n",
       "    .dataframe thead th {\n",
       "        text-align: right;\n",
       "    }\n",
       "</style>\n",
       "<table border=\"1\" class=\"dataframe\">\n",
       "  <thead>\n",
       "    <tr style=\"text-align: right;\">\n",
       "      <th></th>\n",
       "      <th>categories</th>\n",
       "    </tr>\n",
       "  </thead>\n",
       "  <tbody>\n",
       "    <tr>\n",
       "      <th>0</th>\n",
       "      <td>[gastropub, food, beer, garden, restaur, bar, ...</td>\n",
       "    </tr>\n",
       "    <tr>\n",
       "      <th>1</th>\n",
       "      <td>[salad, soup, sandwich, deli, restaur, cafe, v...</td>\n",
       "    </tr>\n",
       "    <tr>\n",
       "      <th>2</th>\n",
       "      <td>[restaur, thai]</td>\n",
       "    </tr>\n",
       "    <tr>\n",
       "      <th>3</th>\n",
       "      <td>[breakfast, brunch, restaur]</td>\n",
       "    </tr>\n",
       "    <tr>\n",
       "      <th>4</th>\n",
       "      <td>[food, pizza, restaur]</td>\n",
       "    </tr>\n",
       "  </tbody>\n",
       "</table>\n",
       "</div>"
      ],
      "text/plain": [
       "                                          categories\n",
       "0  [gastropub, food, beer, garden, restaur, bar, ...\n",
       "1  [salad, soup, sandwich, deli, restaur, cafe, v...\n",
       "2                                    [restaur, thai]\n",
       "3                       [breakfast, brunch, restaur]\n",
       "4                             [food, pizza, restaur]"
      ]
     },
     "execution_count": 16,
     "metadata": {},
     "output_type": "execute_result"
    }
   ],
   "source": [
    "# Lemmatize the words\n",
    "df_nlp['categories'] = df_nlp['categories'].apply(lambda x: lemmatize(x))\n",
    "df_nlp.head()"
   ]
  },
  {
   "cell_type": "code",
   "execution_count": 17,
   "metadata": {},
   "outputs": [],
   "source": [
    "# Remove the list by joining\n",
    "df_nlp['categories'] = df_nlp['categories'].apply(lambda x: ' '.join(x))"
   ]
  },
  {
   "cell_type": "code",
   "execution_count": 18,
   "metadata": {},
   "outputs": [
    {
     "data": {
      "text/html": [
       "<div>\n",
       "<style scoped>\n",
       "    .dataframe tbody tr th:only-of-type {\n",
       "        vertical-align: middle;\n",
       "    }\n",
       "\n",
       "    .dataframe tbody tr th {\n",
       "        vertical-align: top;\n",
       "    }\n",
       "\n",
       "    .dataframe thead th {\n",
       "        text-align: right;\n",
       "    }\n",
       "</style>\n",
       "<table border=\"1\" class=\"dataframe\">\n",
       "  <thead>\n",
       "    <tr style=\"text-align: right;\">\n",
       "      <th></th>\n",
       "      <th>categories</th>\n",
       "    </tr>\n",
       "  </thead>\n",
       "  <tbody>\n",
       "    <tr>\n",
       "      <th>0</th>\n",
       "      <td>gastropub food beer garden restaur bar america...</td>\n",
       "    </tr>\n",
       "    <tr>\n",
       "      <th>1</th>\n",
       "      <td>salad soup sandwich deli restaur cafe vegetarian</td>\n",
       "    </tr>\n",
       "    <tr>\n",
       "      <th>2</th>\n",
       "      <td>restaur thai</td>\n",
       "    </tr>\n",
       "    <tr>\n",
       "      <th>3</th>\n",
       "      <td>breakfast brunch restaur</td>\n",
       "    </tr>\n",
       "    <tr>\n",
       "      <th>4</th>\n",
       "      <td>food pizza restaur</td>\n",
       "    </tr>\n",
       "  </tbody>\n",
       "</table>\n",
       "</div>"
      ],
      "text/plain": [
       "                                          categories\n",
       "0  gastropub food beer garden restaur bar america...\n",
       "1   salad soup sandwich deli restaur cafe vegetarian\n",
       "2                                       restaur thai\n",
       "3                           breakfast brunch restaur\n",
       "4                                 food pizza restaur"
      ]
     },
     "execution_count": 18,
     "metadata": {},
     "output_type": "execute_result"
    }
   ],
   "source": [
    "df_nlp.head()"
   ]
  },
  {
   "cell_type": "markdown",
   "metadata": {},
   "source": [
    "##### CountVectorizer was used instead of TfidfVectorizer since the frequency of the word is not of interest. For example, 'food' is almost always assisted by another word or words. \"Ethnic food\" or \"Food truck\" would be 'Ethnic' and 'truck\"."
   ]
  },
  {
   "cell_type": "code",
   "execution_count": 19,
   "metadata": {},
   "outputs": [
    {
     "data": {
      "text/plain": [
       "array([[0, 0, 0, ..., 0, 0, 0],\n",
       "       [0, 0, 0, ..., 0, 0, 0],\n",
       "       [0, 0, 0, ..., 0, 0, 0],\n",
       "       ...,\n",
       "       [0, 0, 0, ..., 0, 0, 0],\n",
       "       [0, 0, 0, ..., 0, 0, 0],\n",
       "       [0, 0, 0, ..., 0, 0, 0]], dtype=int64)"
      ]
     },
     "execution_count": 19,
     "metadata": {},
     "output_type": "execute_result"
    }
   ],
   "source": [
    "# Use CountVectorizer on categories\n",
    "count_vect = CountVectorizer()\n",
    "X_counts = count_vect.fit_transform(df_nlp['categories'])\n",
    "X_count_feat = X_counts.toarray()\n",
    "X_count_feat"
   ]
  },
  {
   "cell_type": "code",
   "execution_count": 20,
   "metadata": {},
   "outputs": [],
   "source": [
    "# Copy the values of 'is_open' from original dataframe to NLP dataframe\n",
    "df_nlp['is_open'] = df_ml['is_open'].copy()"
   ]
  },
  {
   "cell_type": "code",
   "execution_count": 21,
   "metadata": {},
   "outputs": [],
   "source": [
    "# Create 'body_len' column which counts the total number of words in each row\n",
    "df_nlp['body_len'] = df_nlp['categories'].apply(lambda x: len(x) - x.count(' '))"
   ]
  },
  {
   "cell_type": "code",
   "execution_count": 22,
   "metadata": {},
   "outputs": [
    {
     "data": {
      "text/html": [
       "<div>\n",
       "<style scoped>\n",
       "    .dataframe tbody tr th:only-of-type {\n",
       "        vertical-align: middle;\n",
       "    }\n",
       "\n",
       "    .dataframe tbody tr th {\n",
       "        vertical-align: top;\n",
       "    }\n",
       "\n",
       "    .dataframe thead th {\n",
       "        text-align: right;\n",
       "    }\n",
       "</style>\n",
       "<table border=\"1\" class=\"dataframe\">\n",
       "  <thead>\n",
       "    <tr style=\"text-align: right;\">\n",
       "      <th></th>\n",
       "      <th>categories</th>\n",
       "      <th>is_open</th>\n",
       "      <th>body_len</th>\n",
       "    </tr>\n",
       "  </thead>\n",
       "  <tbody>\n",
       "    <tr>\n",
       "      <th>0</th>\n",
       "      <td>gastropub food beer garden restaur bar america...</td>\n",
       "      <td>1</td>\n",
       "      <td>69</td>\n",
       "    </tr>\n",
       "    <tr>\n",
       "      <th>1</th>\n",
       "      <td>salad soup sandwich deli restaur cafe vegetarian</td>\n",
       "      <td>1</td>\n",
       "      <td>42</td>\n",
       "    </tr>\n",
       "    <tr>\n",
       "      <th>2</th>\n",
       "      <td>restaur thai</td>\n",
       "      <td>1</td>\n",
       "      <td>11</td>\n",
       "    </tr>\n",
       "    <tr>\n",
       "      <th>3</th>\n",
       "      <td>breakfast brunch restaur</td>\n",
       "      <td>1</td>\n",
       "      <td>22</td>\n",
       "    </tr>\n",
       "    <tr>\n",
       "      <th>4</th>\n",
       "      <td>food pizza restaur</td>\n",
       "      <td>1</td>\n",
       "      <td>16</td>\n",
       "    </tr>\n",
       "  </tbody>\n",
       "</table>\n",
       "</div>"
      ],
      "text/plain": [
       "                                          categories  is_open  body_len\n",
       "0  gastropub food beer garden restaur bar america...        1        69\n",
       "1   salad soup sandwich deli restaur cafe vegetarian        1        42\n",
       "2                                       restaur thai        1        11\n",
       "3                           breakfast brunch restaur        1        22\n",
       "4                                 food pizza restaur        1        16"
      ]
     },
     "execution_count": 22,
     "metadata": {},
     "output_type": "execute_result"
    }
   ],
   "source": [
    "df_nlp.head()"
   ]
  },
  {
   "cell_type": "code",
   "execution_count": 23,
   "metadata": {},
   "outputs": [
    {
     "data": {
      "image/png": "[encoded data removed]",
      "text/plain": [
       "<Figure size 432x288 with 1 Axes>"
      ]
     },
     "metadata": {
      "needs_background": "light"
     },
     "output_type": "display_data"
    }
   ],
   "source": [
    "# Plot open vs. closed word counts used by owners to categorize their restaurant\n",
    "plt.hist(df_nlp[df_nlp['is_open'] == 0]['body_len'], alpha=0.4, density=True, label='Closed', bins=10)\n",
    "plt.hist(df_nlp[df_nlp['is_open'] == 1]['body_len'], alpha=0.4, density=True, label='Open', bins=10)\n",
    "plt.title('Count of words used by owners to categorize the restaurant')\n",
    "plt.xlabel('Number of words')\n",
    "plt.legend(loc='upper right')\n",
    "plt.show()"
   ]
  },
  {
   "cell_type": "markdown",
   "metadata": {},
   "source": [
    "# Train Test Split"
   ]
  },
  {
   "cell_type": "code",
   "execution_count": 24,
   "metadata": {},
   "outputs": [
    {
     "data": {
      "text/plain": [
       "(61328, 815)"
      ]
     },
     "execution_count": 24,
     "metadata": {},
     "output_type": "execute_result"
    }
   ],
   "source": [
    "# How big is X_count_feat?\n",
    "X_count_feat.shape"
   ]
  },
  {
   "cell_type": "code",
   "execution_count": 25,
   "metadata": {},
   "outputs": [],
   "source": [
    "# If sum of the column is less than 85% of column size, then drop\n",
    "dummy = pd.DataFrame(X_count_feat)\n",
    "dummy = dummy[dummy.columns[dummy.sum() >= (X_count_feat.shape[1] * 0.85)]]\n",
    "dummy['is_open'] = df_ml['is_open'].copy()"
   ]
  },
  {
   "cell_type": "code",
   "execution_count": 26,
   "metadata": {},
   "outputs": [],
   "source": [
    "# Assign X and Y\n",
    "X = dummy.drop('is_open', axis=1)\n",
    "y = dummy['is_open']\n",
    "\n",
    "# Split the data into train and test set.\n",
    "X_train, X_test, y_train, y_test = train_test_split(X, y, test_size=0.3, random_state=3, stratify=y)"
   ]
  },
  {
   "cell_type": "markdown",
   "metadata": {},
   "source": [
    "# Bernoulli Naive Bayes - Categories"
   ]
  },
  {
   "cell_type": "markdown",
   "metadata": {},
   "source": [
    "### Baseline Model - Bernoulli Naive Bayes"
   ]
  },
  {
   "cell_type": "markdown",
   "metadata": {},
   "source": [
    "There isn't a class weight in the parameter, so we will have to use upsampled train test samples"
   ]
  },
  {
   "cell_type": "code",
   "execution_count": 27,
   "metadata": {},
   "outputs": [
    {
     "data": {
      "text/html": [
       "<div>\n",
       "<style scoped>\n",
       "    .dataframe tbody tr th:only-of-type {\n",
       "        vertical-align: middle;\n",
       "    }\n",
       "\n",
       "    .dataframe tbody tr th {\n",
       "        vertical-align: top;\n",
       "    }\n",
       "\n",
       "    .dataframe thead th {\n",
       "        text-align: right;\n",
       "    }\n",
       "</style>\n",
       "<table border=\"1\" class=\"dataframe\">\n",
       "  <thead>\n",
       "    <tr style=\"text-align: right;\">\n",
       "      <th></th>\n",
       "      <th>is_open</th>\n",
       "      <th>17</th>\n",
       "      <th>32</th>\n",
       "      <th>34</th>\n",
       "      <th>46</th>\n",
       "      <th>50</th>\n",
       "      <th>51</th>\n",
       "      <th>61</th>\n",
       "      <th>83</th>\n",
       "      <th>85</th>\n",
       "      <th>...</th>\n",
       "      <th>725</th>\n",
       "      <th>743</th>\n",
       "      <th>753</th>\n",
       "      <th>768</th>\n",
       "      <th>769</th>\n",
       "      <th>774</th>\n",
       "      <th>779</th>\n",
       "      <th>804</th>\n",
       "      <th>806</th>\n",
       "      <th>812</th>\n",
       "    </tr>\n",
       "  </thead>\n",
       "  <tbody>\n",
       "    <tr>\n",
       "      <th>4537</th>\n",
       "      <td>1</td>\n",
       "      <td>0</td>\n",
       "      <td>0</td>\n",
       "      <td>0</td>\n",
       "      <td>0</td>\n",
       "      <td>0</td>\n",
       "      <td>0</td>\n",
       "      <td>0</td>\n",
       "      <td>0</td>\n",
       "      <td>0</td>\n",
       "      <td>...</td>\n",
       "      <td>0</td>\n",
       "      <td>0</td>\n",
       "      <td>0</td>\n",
       "      <td>0</td>\n",
       "      <td>0</td>\n",
       "      <td>0</td>\n",
       "      <td>0</td>\n",
       "      <td>0</td>\n",
       "      <td>0</td>\n",
       "      <td>0</td>\n",
       "    </tr>\n",
       "    <tr>\n",
       "      <th>55562</th>\n",
       "      <td>0</td>\n",
       "      <td>0</td>\n",
       "      <td>0</td>\n",
       "      <td>0</td>\n",
       "      <td>0</td>\n",
       "      <td>1</td>\n",
       "      <td>0</td>\n",
       "      <td>0</td>\n",
       "      <td>0</td>\n",
       "      <td>0</td>\n",
       "      <td>...</td>\n",
       "      <td>1</td>\n",
       "      <td>0</td>\n",
       "      <td>0</td>\n",
       "      <td>0</td>\n",
       "      <td>0</td>\n",
       "      <td>0</td>\n",
       "      <td>0</td>\n",
       "      <td>0</td>\n",
       "      <td>0</td>\n",
       "      <td>0</td>\n",
       "    </tr>\n",
       "    <tr>\n",
       "      <th>43077</th>\n",
       "      <td>1</td>\n",
       "      <td>0</td>\n",
       "      <td>0</td>\n",
       "      <td>1</td>\n",
       "      <td>0</td>\n",
       "      <td>1</td>\n",
       "      <td>0</td>\n",
       "      <td>0</td>\n",
       "      <td>0</td>\n",
       "      <td>0</td>\n",
       "      <td>...</td>\n",
       "      <td>0</td>\n",
       "      <td>0</td>\n",
       "      <td>0</td>\n",
       "      <td>0</td>\n",
       "      <td>0</td>\n",
       "      <td>0</td>\n",
       "      <td>0</td>\n",
       "      <td>0</td>\n",
       "      <td>0</td>\n",
       "      <td>0</td>\n",
       "    </tr>\n",
       "    <tr>\n",
       "      <th>8597</th>\n",
       "      <td>1</td>\n",
       "      <td>1</td>\n",
       "      <td>0</td>\n",
       "      <td>0</td>\n",
       "      <td>0</td>\n",
       "      <td>1</td>\n",
       "      <td>0</td>\n",
       "      <td>0</td>\n",
       "      <td>0</td>\n",
       "      <td>0</td>\n",
       "      <td>...</td>\n",
       "      <td>0</td>\n",
       "      <td>1</td>\n",
       "      <td>0</td>\n",
       "      <td>0</td>\n",
       "      <td>0</td>\n",
       "      <td>0</td>\n",
       "      <td>0</td>\n",
       "      <td>0</td>\n",
       "      <td>0</td>\n",
       "      <td>0</td>\n",
       "    </tr>\n",
       "    <tr>\n",
       "      <th>26000</th>\n",
       "      <td>0</td>\n",
       "      <td>0</td>\n",
       "      <td>0</td>\n",
       "      <td>0</td>\n",
       "      <td>0</td>\n",
       "      <td>0</td>\n",
       "      <td>0</td>\n",
       "      <td>0</td>\n",
       "      <td>0</td>\n",
       "      <td>0</td>\n",
       "      <td>...</td>\n",
       "      <td>0</td>\n",
       "      <td>0</td>\n",
       "      <td>0</td>\n",
       "      <td>0</td>\n",
       "      <td>0</td>\n",
       "      <td>0</td>\n",
       "      <td>0</td>\n",
       "      <td>0</td>\n",
       "      <td>0</td>\n",
       "      <td>0</td>\n",
       "    </tr>\n",
       "  </tbody>\n",
       "</table>\n",
       "<p>5 rows × 90 columns</p>\n",
       "</div>"
      ],
      "text/plain": [
       "       is_open  17  32  34  46  50  51  61  83  85  ...  725  743  753  768  \\\n",
       "4537         1   0   0   0   0   0   0   0   0   0  ...    0    0    0    0   \n",
       "55562        0   0   0   0   0   1   0   0   0   0  ...    1    0    0    0   \n",
       "43077        1   0   0   1   0   1   0   0   0   0  ...    0    0    0    0   \n",
       "8597         1   1   0   0   0   1   0   0   0   0  ...    0    1    0    0   \n",
       "26000        0   0   0   0   0   0   0   0   0   0  ...    0    0    0    0   \n",
       "\n",
       "       769  774  779  804  806  812  \n",
       "4537     0    0    0    0    0    0  \n",
       "55562    0    0    0    0    0    0  \n",
       "43077    0    0    0    0    0    0  \n",
       "8597     0    0    0    0    0    0  \n",
       "26000    0    0    0    0    0    0  \n",
       "\n",
       "[5 rows x 90 columns]"
      ]
     },
     "execution_count": 27,
     "metadata": {},
     "output_type": "execute_result"
    }
   ],
   "source": [
    "# Concatenate the training data\n",
    "df_Xy_train = pd.concat([y_train, X_train], axis=1)\n",
    "df_Xy_train.head()"
   ]
  },
  {
   "cell_type": "code",
   "execution_count": 28,
   "metadata": {},
   "outputs": [],
   "source": [
    "# Separate closed and open restaurants\n",
    "df_closed = df_Xy_train[df_Xy_train.is_open == 0]\n",
    "df_open = df_Xy_train[df_Xy_train.is_open == 1]"
   ]
  },
  {
   "cell_type": "code",
   "execution_count": 29,
   "metadata": {},
   "outputs": [
    {
     "name": "stdout",
     "output_type": "stream",
     "text": [
      "From the training set, there are 14999 closed restaurants.\n",
      "From the training set, there are 27930 open restaurants.\n"
     ]
    }
   ],
   "source": [
    "print('From the training set, there are {} closed restaurants.'.format(len(df_closed)))\n",
    "print('From the training set, there are {} open restaurants.'.format(len(df_open)))"
   ]
  },
  {
   "cell_type": "code",
   "execution_count": 30,
   "metadata": {},
   "outputs": [],
   "source": [
    "# Upsample closed restaurants\n",
    "df_closed = resample(df_closed, replace=True, n_samples=len(df_open), random_state=3) "
   ]
  },
  {
   "cell_type": "code",
   "execution_count": 31,
   "metadata": {},
   "outputs": [],
   "source": [
    "# Combine open and upsampled closed restaurants\n",
    "df_upsampled = pd.concat([df_closed, df_open])"
   ]
  },
  {
   "cell_type": "code",
   "execution_count": 32,
   "metadata": {},
   "outputs": [],
   "source": [
    "# Split the upsampled data into X_train and y_train\n",
    "X_train_up = df_upsampled.drop('is_open', axis=1)\n",
    "y_train_up = df_upsampled['is_open']"
   ]
  },
  {
   "cell_type": "code",
   "execution_count": 33,
   "metadata": {},
   "outputs": [],
   "source": [
    "# Fit the data and predict\n",
    "model = BernoulliNB()\n",
    "model.fit(X_train_up, y_train_up)\n",
    "y_pred = model.predict(X_test)"
   ]
  },
  {
   "cell_type": "code",
   "execution_count": 34,
   "metadata": {},
   "outputs": [
    {
     "name": "stdout",
     "output_type": "stream",
     "text": [
      "              precision    recall  f1-score   support\n",
      "\n",
      "           0       0.42      0.67      0.52      6429\n",
      "           1       0.74      0.51      0.60     11970\n",
      "\n",
      "    accuracy                           0.56     18399\n",
      "   macro avg       0.58      0.59      0.56     18399\n",
      "weighted avg       0.63      0.56      0.57     18399\n",
      "\n"
     ]
    }
   ],
   "source": [
    "# Print classification report\n",
    "print(classification_report(y_test, y_pred))"
   ]
  },
  {
   "cell_type": "code",
   "execution_count": 35,
   "metadata": {},
   "outputs": [
    {
     "data": {
      "image/png": "[encoded data removed]",
      "text/plain": [
       "<Figure size 432x288 with 2 Axes>"
      ]
     },
     "metadata": {
      "needs_background": "light"
     },
     "output_type": "display_data"
    }
   ],
   "source": [
    "# Plot confusion matrix\n",
    "plot_confusion_matrix(model, X_test, y_test, cmap=plt.cm.Reds)\n",
    "plt.title('Confusion Matrix (Naive Bayes - baseline model)')\n",
    "plt.show()"
   ]
  },
  {
   "cell_type": "code",
   "execution_count": 36,
   "metadata": {},
   "outputs": [
    {
     "data": {
      "image/png": "[encoded data removed]",
      "text/plain": [
       "<Figure size 432x288 with 1 Axes>"
      ]
     },
     "metadata": {
      "needs_background": "light"
     },
     "output_type": "display_data"
    }
   ],
   "source": [
    "# Plot Precision Recall Curve\n",
    "plot_precision_recall_curve(model, X_test, y_test)\n",
    "plt.title('Precision-Recall curve for Naive Bayes (Baseline model)')\n",
    "plt.show()"
   ]
  },
  {
   "cell_type": "markdown",
   "metadata": {},
   "source": [
    "### Search for the best hyper parameter using RandomSearchCV - Bernoulli Naive Bayes"
   ]
  },
  {
   "cell_type": "code",
   "execution_count": 37,
   "metadata": {},
   "outputs": [],
   "source": [
    "# Define KFold\n",
    "kfold = KFold(n_splits=5, shuffle=True, random_state=3)"
   ]
  },
  {
   "cell_type": "code",
   "execution_count": 38,
   "metadata": {},
   "outputs": [],
   "source": [
    "# Set the parameters to search for\n",
    "model2 = BernoulliNB()\n",
    "\n",
    "nb_grid = {'alpha': np.linspace(0, 2, 20),\n",
    "           'fit_prior':[True, False],\n",
    "           'binarize': np.linspace(0, 1, 10),\n",
    "          }"
   ]
  },
  {
   "cell_type": "code",
   "execution_count": 39,
   "metadata": {},
   "outputs": [],
   "source": [
    "# Define Random Search CV\n",
    "model_random = RandomizedSearchCV(estimator = model2, param_distributions=nb_grid, cv = kfold, random_state=3, n_jobs = -1)"
   ]
  },
  {
   "cell_type": "code",
   "execution_count": 40,
   "metadata": {},
   "outputs": [
    {
     "data": {
      "text/plain": [
       "RandomizedSearchCV(cv=KFold(n_splits=5, random_state=3, shuffle=True),\n",
       "                   estimator=BernoulliNB(), n_jobs=-1,\n",
       "                   param_distributions={'alpha': array([0.        , 0.10526316, 0.21052632, 0.31578947, 0.42105263,\n",
       "       0.52631579, 0.63157895, 0.73684211, 0.84210526, 0.94736842,\n",
       "       1.05263158, 1.15789474, 1.26315789, 1.36842105, 1.47368421,\n",
       "       1.57894737, 1.68421053, 1.78947368, 1.89473684, 2.        ]),\n",
       "                                        'binarize': array([0.        , 0.11111111, 0.22222222, 0.33333333, 0.44444444,\n",
       "       0.55555556, 0.66666667, 0.77777778, 0.88888889, 1.        ]),\n",
       "                                        'fit_prior': [True, False]},\n",
       "                   random_state=3)"
      ]
     },
     "execution_count": 40,
     "metadata": {},
     "output_type": "execute_result"
    }
   ],
   "source": [
    "# Fit the random search model (using upsampled)\n",
    "model_random.fit(X_train_up, y_train_up)"
   ]
  },
  {
   "cell_type": "code",
   "execution_count": 41,
   "metadata": {},
   "outputs": [
    {
     "data": {
      "text/plain": [
       "{'fit_prior': True,\n",
       " 'binarize': 0.1111111111111111,\n",
       " 'alpha': 0.42105263157894735}"
      ]
     },
     "execution_count": 41,
     "metadata": {},
     "output_type": "execute_result"
    }
   ],
   "source": [
    "model_random.best_params_"
   ]
  },
  {
   "cell_type": "code",
   "execution_count": 42,
   "metadata": {},
   "outputs": [],
   "source": [
    "# Fit the data with best params and predict\n",
    "model2 = BernoulliNB(**model_random.best_params_)\n",
    "model2.fit(X_train_up, y_train_up)\n",
    "y_pred2 = model2.predict(X_test)"
   ]
  },
  {
   "cell_type": "code",
   "execution_count": 43,
   "metadata": {},
   "outputs": [
    {
     "name": "stdout",
     "output_type": "stream",
     "text": [
      "              precision    recall  f1-score   support\n",
      "\n",
      "           0       0.42      0.67      0.52      6429\n",
      "           1       0.74      0.51      0.60     11970\n",
      "\n",
      "    accuracy                           0.56     18399\n",
      "   macro avg       0.58      0.59      0.56     18399\n",
      "weighted avg       0.63      0.56      0.57     18399\n",
      "\n"
     ]
    }
   ],
   "source": [
    "# Print classification report\n",
    "print(classification_report(y_test, y_pred2))"
   ]
  },
  {
   "cell_type": "code",
   "execution_count": 44,
   "metadata": {},
   "outputs": [
    {
     "data": {
      "image/png": "[encoded data removed]",
      "text/plain": [
       "<Figure size 432x288 with 2 Axes>"
      ]
     },
     "metadata": {
      "needs_background": "light"
     },
     "output_type": "display_data"
    }
   ],
   "source": [
    "# Plot confusion matrix\n",
    "plot_confusion_matrix(model2, X_test, y_test, cmap=plt.cm.Reds)\n",
    "plt.title('Confusion Matrix (Naive Bayes - Best hyperparameters)')\n",
    "plt.show()"
   ]
  },
  {
   "cell_type": "code",
   "execution_count": 45,
   "metadata": {},
   "outputs": [
    {
     "name": "stdout",
     "output_type": "stream",
     "text": [
      "Average cross validation score: 0.558\n"
     ]
    }
   ],
   "source": [
    "# Print average cross val score\n",
    "print('Average cross validation score: %.3f' % cross_val_score(model2, X_train_up, y_train_up, cv=kfold, scoring='f1').mean())"
   ]
  },
  {
   "cell_type": "markdown",
   "metadata": {},
   "source": [
    "# Categories - Logistic Regression"
   ]
  },
  {
   "cell_type": "markdown",
   "metadata": {},
   "source": [
    "### Baseline Model - Logistic Regression"
   ]
  },
  {
   "cell_type": "code",
   "execution_count": 46,
   "metadata": {},
   "outputs": [],
   "source": [
    "# Logistic Regression - Baseline model\n",
    "lr = LogisticRegression(max_iter=1000, random_state=3)"
   ]
  },
  {
   "cell_type": "code",
   "execution_count": 47,
   "metadata": {},
   "outputs": [],
   "source": [
    "# Fit the data and predict\n",
    "lr.fit(X_train, y_train)\n",
    "y_pred = lr.predict(X_test)"
   ]
  },
  {
   "cell_type": "code",
   "execution_count": 48,
   "metadata": {},
   "outputs": [
    {
     "name": "stdout",
     "output_type": "stream",
     "text": [
      "              precision    recall  f1-score   support\n",
      "\n",
      "           0       0.57      0.16      0.24      6429\n",
      "           1       0.67      0.94      0.78     11970\n",
      "\n",
      "    accuracy                           0.66     18399\n",
      "   macro avg       0.62      0.55      0.51     18399\n",
      "weighted avg       0.64      0.66      0.60     18399\n",
      "\n"
     ]
    }
   ],
   "source": [
    "# Print classification report\n",
    "print(classification_report(y_test, y_pred))"
   ]
  },
  {
   "cell_type": "code",
   "execution_count": 49,
   "metadata": {
    "scrolled": false
   },
   "outputs": [
    {
     "data": {
      "image/png": "[encoded data removed]",
      "text/plain": [
       "<Figure size 432x288 with 1 Axes>"
      ]
     },
     "metadata": {
      "needs_background": "light"
     },
     "output_type": "display_data"
    }
   ],
   "source": [
    "# Plot precision recall curve\n",
    "plot_precision_recall_curve(lr, X_test, y_test)\n",
    "plt.title('Precision-Recall curve (Baseline model)')\n",
    "plt.show()"
   ]
  },
  {
   "cell_type": "code",
   "execution_count": 50,
   "metadata": {},
   "outputs": [
    {
     "data": {
      "image/png": "[encoded data removed]",
      "text/plain": [
       "<Figure size 432x288 with 2 Axes>"
      ]
     },
     "metadata": {
      "needs_background": "light"
     },
     "output_type": "display_data"
    }
   ],
   "source": [
    "# Plot confusion matrix\n",
    "plot_confusion_matrix(lr, X_test, y_test, cmap=plt.cm.Reds)\n",
    "plt.title('Confusion Matrix (Logistic Regression - baseline model)')\n",
    "plt.show()"
   ]
  },
  {
   "cell_type": "markdown",
   "metadata": {},
   "source": [
    "#### Let's not forget! We have imbalanced dataset."
   ]
  },
  {
   "cell_type": "code",
   "execution_count": 51,
   "metadata": {},
   "outputs": [
    {
     "name": "stdout",
     "output_type": "stream",
     "text": [
      "There are 21428 closed restaurants.\n",
      "There are 39900 open restaurants.\n"
     ]
    }
   ],
   "source": [
    "print('There are {} closed restaurants.'.format(len(df_ml[df_ml.is_open == 0])))\n",
    "print('There are {} open restaurants.'.format(len(df_ml[df_ml.is_open == 1])))"
   ]
  },
  {
   "cell_type": "markdown",
   "metadata": {},
   "source": [
    "##### Balancing techniques will have to be used to balanced the dataset."
   ]
  },
  {
   "cell_type": "markdown",
   "metadata": {},
   "source": [
    "### Class Weight vs. Upsampling performance - Logistic Regression"
   ]
  },
  {
   "cell_type": "markdown",
   "metadata": {},
   "source": [
    "Theoretically, applying class weight vs. upsampling should be almost exactly the same. But both performances will be tested on a baseline model to see which performs better."
   ]
  },
  {
   "cell_type": "markdown",
   "metadata": {},
   "source": [
    "#### Class weight performance"
   ]
  },
  {
   "cell_type": "code",
   "execution_count": 52,
   "metadata": {},
   "outputs": [],
   "source": [
    "# Define class weight\n",
    "weight = {0: (len(df_ml[df_ml.is_open == 1])/len(df_ml[df_ml.is_open == 0])) , 1:1}\n",
    "\n",
    "# Fit the data and predict\n",
    "lr2 = LogisticRegression(max_iter=1000, random_state=3, class_weight=weight)\n",
    "lr2.fit(X_train, y_train)\n",
    "y_pred2 = lr2.predict(X_test)"
   ]
  },
  {
   "cell_type": "code",
   "execution_count": 53,
   "metadata": {},
   "outputs": [
    {
     "name": "stdout",
     "output_type": "stream",
     "text": [
      "              precision    recall  f1-score   support\n",
      "\n",
      "           0       0.43      0.69      0.53      6429\n",
      "           1       0.75      0.51      0.61     11970\n",
      "\n",
      "    accuracy                           0.57     18399\n",
      "   macro avg       0.59      0.60      0.57     18399\n",
      "weighted avg       0.64      0.57      0.58     18399\n",
      "\n"
     ]
    }
   ],
   "source": [
    "# Print classification report\n",
    "print(classification_report(y_test, y_pred2))"
   ]
  },
  {
   "cell_type": "code",
   "execution_count": 54,
   "metadata": {},
   "outputs": [
    {
     "data": {
      "image/png": "[encoded data removed]",
      "text/plain": [
       "<Figure size 432x288 with 2 Axes>"
      ]
     },
     "metadata": {
      "needs_background": "light"
     },
     "output_type": "display_data"
    }
   ],
   "source": [
    "plot_confusion_matrix(lr2, X_test, y_test, cmap=plt.cm.Reds)\n",
    "plt.title('Confusion Matrix (Logistic Regression - class weight)')\n",
    "plt.show()"
   ]
  },
  {
   "cell_type": "code",
   "execution_count": 55,
   "metadata": {},
   "outputs": [
    {
     "name": "stdout",
     "output_type": "stream",
     "text": [
      "Average cross validation score: 0.617\n"
     ]
    }
   ],
   "source": [
    "# Average cross validation score\n",
    "print('Average cross validation score: %.3f' % cross_val_score(lr2, X_train, y_train, cv=kfold, scoring='f1').mean())"
   ]
  },
  {
   "cell_type": "markdown",
   "metadata": {},
   "source": [
    "#### Upsampling performance"
   ]
  },
  {
   "cell_type": "code",
   "execution_count": 56,
   "metadata": {},
   "outputs": [],
   "source": [
    "# Fit the data and predict\n",
    "lr3 = LogisticRegression(max_iter=1000, random_state=3)\n",
    "lr3.fit(X_train_up, y_train_up)\n",
    "y_pred3 = lr3.predict(X_test)"
   ]
  },
  {
   "cell_type": "code",
   "execution_count": 57,
   "metadata": {},
   "outputs": [
    {
     "name": "stdout",
     "output_type": "stream",
     "text": [
      "              precision    recall  f1-score   support\n",
      "\n",
      "           0       0.43      0.68      0.53      6429\n",
      "           1       0.75      0.51      0.61     11970\n",
      "\n",
      "    accuracy                           0.57     18399\n",
      "   macro avg       0.59      0.60      0.57     18399\n",
      "weighted avg       0.64      0.57      0.58     18399\n",
      "\n"
     ]
    }
   ],
   "source": [
    "# Print classification report\n",
    "print(classification_report(y_test, y_pred3))"
   ]
  },
  {
   "cell_type": "code",
   "execution_count": 58,
   "metadata": {},
   "outputs": [
    {
     "data": {
      "image/png": "[encoded data removed]",
      "text/plain": [
       "<Figure size 432x288 with 2 Axes>"
      ]
     },
     "metadata": {
      "needs_background": "light"
     },
     "output_type": "display_data"
    }
   ],
   "source": [
    "plot_confusion_matrix(lr3, X_test, y_test, cmap=plt.cm.Reds)\n",
    "plt.title('Confusion Matrix (Logistic Regression - upsampling)')\n",
    "plt.show()"
   ]
  },
  {
   "cell_type": "code",
   "execution_count": 59,
   "metadata": {},
   "outputs": [
    {
     "name": "stdout",
     "output_type": "stream",
     "text": [
      "Average cross validation score: 0.569\n"
     ]
    }
   ],
   "source": [
    "# Print average cross val score\n",
    "print('Average cross validation score: %.3f' % cross_val_score(lr3, X_train_up, y_train_up, cv=kfold, scoring='f1').mean())"
   ]
  },
  {
   "cell_type": "markdown",
   "metadata": {},
   "source": [
    "##### Class weight and Upsampling resulted in same weighted avg f1 scores, but 'class weight' had better average f1 cross validation score"
   ]
  },
  {
   "cell_type": "markdown",
   "metadata": {},
   "source": [
    "### Search for the best hyper parameter using RandomSearchCV - Logistic Regression."
   ]
  },
  {
   "cell_type": "code",
   "execution_count": 60,
   "metadata": {},
   "outputs": [],
   "source": [
    "# Set the parameters to search for\n",
    "lr5 = LogisticRegression(class_weight=weight, random_state=3)\n",
    "\n",
    "lr_grid = {'penalty': ['l1', 'l2', 'elasticnet', 'none'],\n",
    "           'dual':[True, False],\n",
    "          'max_iter':[int(x) for x in np.linspace(start=1000, stop=3000, num=100)],\n",
    "          'C':[0.25, 0.5, 1.0, 1.5]}"
   ]
  },
  {
   "cell_type": "code",
   "execution_count": 61,
   "metadata": {},
   "outputs": [],
   "source": [
    "# Define Random Search CV\n",
    "lr_random = RandomizedSearchCV(estimator = lr5, param_distributions=lr_grid, cv = kfold, random_state=3, n_jobs = -1)"
   ]
  },
  {
   "cell_type": "code",
   "execution_count": 62,
   "metadata": {},
   "outputs": [
    {
     "data": {
      "text/plain": [
       "RandomizedSearchCV(cv=KFold(n_splits=5, random_state=3, shuffle=True),\n",
       "                   estimator=LogisticRegression(class_weight={0: 1.8620496546574576,\n",
       "                                                              1: 1},\n",
       "                                                random_state=3),\n",
       "                   n_jobs=-1,\n",
       "                   param_distributions={'C': [0.25, 0.5, 1.0, 1.5],\n",
       "                                        'dual': [True, False],\n",
       "                                        'max_iter': [1000, 1020, 1040, 1060,\n",
       "                                                     1080, 1101, 1121, 1141,\n",
       "                                                     1161, 1181, 1202, 1222,\n",
       "                                                     1242, 1262, 1282, 1303,\n",
       "                                                     1323, 1343, 1363, 1383,\n",
       "                                                     1404, 1424, 1444, 1464,\n",
       "                                                     1484, 1505, 1525, 1545,\n",
       "                                                     1565, 1585, ...],\n",
       "                                        'penalty': ['l1', 'l2', 'elasticnet',\n",
       "                                                    'none']},\n",
       "                   random_state=3)"
      ]
     },
     "execution_count": 62,
     "metadata": {},
     "output_type": "execute_result"
    }
   ],
   "source": [
    "# Fit the training data\n",
    "lr_random.fit(X_train, y_train)"
   ]
  },
  {
   "cell_type": "code",
   "execution_count": 63,
   "metadata": {},
   "outputs": [
    {
     "name": "stdout",
     "output_type": "stream",
     "text": [
      "{'penalty': 'l2', 'max_iter': 2959, 'dual': False, 'C': 0.25}\n"
     ]
    }
   ],
   "source": [
    "# Print the best parameters\n",
    "print(lr_random.best_params_)"
   ]
  },
  {
   "cell_type": "code",
   "execution_count": 64,
   "metadata": {},
   "outputs": [],
   "source": [
    "# Instantiate LogisticRegression\n",
    "lr6 = LogisticRegression(**lr_random.best_params_, class_weight=weight, random_state=3)"
   ]
  },
  {
   "cell_type": "code",
   "execution_count": 65,
   "metadata": {},
   "outputs": [],
   "source": [
    "# Fit data and predict\n",
    "lr6.fit(X_train, y_train)\n",
    "y_pred6 = lr6.predict(X_test)"
   ]
  },
  {
   "cell_type": "code",
   "execution_count": 66,
   "metadata": {
    "scrolled": true
   },
   "outputs": [
    {
     "name": "stdout",
     "output_type": "stream",
     "text": [
      "              precision    recall  f1-score   support\n",
      "\n",
      "           0       0.43      0.68      0.53      6429\n",
      "           1       0.75      0.52      0.61     11970\n",
      "\n",
      "    accuracy                           0.58     18399\n",
      "   macro avg       0.59      0.60      0.57     18399\n",
      "weighted avg       0.64      0.58      0.58     18399\n",
      "\n"
     ]
    }
   ],
   "source": [
    "# Print classification report\n",
    "print(classification_report(y_test, y_pred6))"
   ]
  },
  {
   "cell_type": "code",
   "execution_count": 67,
   "metadata": {
    "scrolled": true
   },
   "outputs": [
    {
     "data": {
      "image/png": "[encoded data removed]",
      "text/plain": [
       "<Figure size 432x288 with 2 Axes>"
      ]
     },
     "metadata": {
      "needs_background": "light"
     },
     "output_type": "display_data"
    }
   ],
   "source": [
    "# Plot confusion matrix\n",
    "plot_confusion_matrix(lr6, X_test, y_test, cmap=plt.cm.Reds)\n",
    "plt.title('Confusion Matrix (Logistic Regression - Best hyperparameters)')\n",
    "plt.show()"
   ]
  },
  {
   "cell_type": "code",
   "execution_count": 68,
   "metadata": {},
   "outputs": [
    {
     "name": "stdout",
     "output_type": "stream",
     "text": [
      "              precision    recall  f1-score   support\n",
      "\n",
      "           0       0.43      0.69      0.53     21428\n",
      "           1       0.76      0.51      0.61     39900\n",
      "\n",
      "    accuracy                           0.58     61328\n",
      "   macro avg       0.60      0.60      0.57     61328\n",
      "weighted avg       0.64      0.58      0.58     61328\n",
      "\n"
     ]
    }
   ],
   "source": [
    "# Check cross validated classification report\n",
    "cross_predicted = cross_val_predict(lr6, X, y, cv=kfold)\n",
    "print(classification_report(y, cross_predicted))"
   ]
  },
  {
   "cell_type": "code",
   "execution_count": 69,
   "metadata": {
    "scrolled": true
   },
   "outputs": [
    {
     "name": "stdout",
     "output_type": "stream",
     "text": [
      "Average cross validation score: 0.618\n"
     ]
    }
   ],
   "source": [
    "print('Average cross validation score: %.3f' % cross_val_score(lr6, X_train, y_train, cv=kfold, scoring='f1').mean())"
   ]
  },
  {
   "cell_type": "markdown",
   "metadata": {},
   "source": [
    "#### RandomSearchCV did not improve weighted avg f1 scores for logistic regression. \n",
    "### Best weighted average f1 score was 0.58, while best cross validation score with 5-kfold was 0.62"
   ]
  },
  {
   "cell_type": "markdown",
   "metadata": {},
   "source": [
    "# Categories - Random Forest"
   ]
  },
  {
   "cell_type": "markdown",
   "metadata": {},
   "source": [
    "### Random Forest Baseline Model - Categories"
   ]
  },
  {
   "cell_type": "code",
   "execution_count": 70,
   "metadata": {},
   "outputs": [],
   "source": [
    "# Random Forest Baseline Model\n",
    "rf = RandomForestClassifier(n_estimators=100, random_state=3)"
   ]
  },
  {
   "cell_type": "code",
   "execution_count": 71,
   "metadata": {},
   "outputs": [],
   "source": [
    "# Fit data, predict, and print accuracy\n",
    "rf.fit(X_train, y_train)\n",
    "y_pred = rf.predict(X_test)"
   ]
  },
  {
   "cell_type": "code",
   "execution_count": 72,
   "metadata": {},
   "outputs": [
    {
     "name": "stdout",
     "output_type": "stream",
     "text": [
      "              precision    recall  f1-score   support\n",
      "\n",
      "           0       0.49      0.29      0.37      6429\n",
      "           1       0.69      0.84      0.75     11970\n",
      "\n",
      "    accuracy                           0.65     18399\n",
      "   macro avg       0.59      0.56      0.56     18399\n",
      "weighted avg       0.62      0.65      0.62     18399\n",
      "\n"
     ]
    }
   ],
   "source": [
    "# Print classification report\n",
    "print(classification_report(y_test, y_pred))"
   ]
  },
  {
   "cell_type": "code",
   "execution_count": 73,
   "metadata": {},
   "outputs": [
    {
     "data": {
      "image/png": "[encoded data removed]",
      "text/plain": [
       "<Figure size 432x288 with 1 Axes>"
      ]
     },
     "metadata": {
      "needs_background": "light"
     },
     "output_type": "display_data"
    }
   ],
   "source": [
    "# Plot Precision Recall Curve\n",
    "plot_precision_recall_curve(rf, X_test, y_test)\n",
    "plt.title('Precision-Recall curve for Random Forest Baseline Model')\n",
    "plt.show()"
   ]
  },
  {
   "cell_type": "code",
   "execution_count": 74,
   "metadata": {},
   "outputs": [
    {
     "data": {
      "image/png": "[encoded data removed]",
      "text/plain": [
       "<Figure size 432x288 with 2 Axes>"
      ]
     },
     "metadata": {
      "needs_background": "light"
     },
     "output_type": "display_data"
    }
   ],
   "source": [
    "# Plot confusion matrix\n",
    "plot_confusion_matrix(rf, X_test, y_test, cmap=plt.cm.Reds)\n",
    "plt.title('Confusion Matrix (Random Forest - baseline model)')\n",
    "plt.show()"
   ]
  },
  {
   "cell_type": "markdown",
   "metadata": {},
   "source": [
    "### Class Weight vs. Upsampling performance - Random Forest"
   ]
  },
  {
   "cell_type": "markdown",
   "metadata": {},
   "source": [
    "##### Class weight performance"
   ]
  },
  {
   "cell_type": "code",
   "execution_count": 75,
   "metadata": {},
   "outputs": [],
   "source": [
    "# Fit the data and predict\n",
    "rf2 = RandomForestClassifier(n_estimators=100, random_state=3, class_weight=weight)\n",
    "rf2.fit(X_train, y_train)\n",
    "y_pred2 = rf2.predict(X_test)"
   ]
  },
  {
   "cell_type": "code",
   "execution_count": 76,
   "metadata": {},
   "outputs": [
    {
     "name": "stdout",
     "output_type": "stream",
     "text": [
      "              precision    recall  f1-score   support\n",
      "\n",
      "           0       0.44      0.61      0.51      6429\n",
      "           1       0.74      0.58      0.65     11970\n",
      "\n",
      "    accuracy                           0.59     18399\n",
      "   macro avg       0.59      0.60      0.58     18399\n",
      "weighted avg       0.63      0.59      0.60     18399\n",
      "\n"
     ]
    }
   ],
   "source": [
    "# Print classification report\n",
    "print(classification_report(y_test, y_pred2))"
   ]
  },
  {
   "cell_type": "code",
   "execution_count": 77,
   "metadata": {},
   "outputs": [
    {
     "data": {
      "image/png": "[encoded data removed]",
      "text/plain": [
       "<Figure size 432x288 with 2 Axes>"
      ]
     },
     "metadata": {
      "needs_background": "light"
     },
     "output_type": "display_data"
    }
   ],
   "source": [
    "# Plot confusion matrix\n",
    "plot_confusion_matrix(rf2, X_test, y_test, cmap=plt.cm.Reds)\n",
    "plt.title('Confusion Matrix (Random Forest - class weight)')\n",
    "plt.show()"
   ]
  },
  {
   "cell_type": "code",
   "execution_count": 78,
   "metadata": {},
   "outputs": [
    {
     "name": "stdout",
     "output_type": "stream",
     "text": [
      "Average cross validation score: 0.660\n"
     ]
    }
   ],
   "source": [
    "# Average cross validation score\n",
    "print('Average cross validation score: %.3f' % cross_val_score(rf2, X_train, y_train, cv=kfold, scoring='f1').mean())"
   ]
  },
  {
   "cell_type": "markdown",
   "metadata": {},
   "source": [
    "##### Upsampling performance"
   ]
  },
  {
   "cell_type": "code",
   "execution_count": 79,
   "metadata": {},
   "outputs": [],
   "source": [
    "# Fit the data and predict\n",
    "rf3 = RandomForestClassifier(n_estimators=100, random_state=3)\n",
    "rf3.fit(X_train_up, y_train_up)\n",
    "y_pred3 = rf3.predict(X_test)"
   ]
  },
  {
   "cell_type": "code",
   "execution_count": 80,
   "metadata": {},
   "outputs": [
    {
     "name": "stdout",
     "output_type": "stream",
     "text": [
      "              precision    recall  f1-score   support\n",
      "\n",
      "           0       0.44      0.62      0.51      6429\n",
      "           1       0.73      0.57      0.64     11970\n",
      "\n",
      "    accuracy                           0.59     18399\n",
      "   macro avg       0.59      0.59      0.58     18399\n",
      "weighted avg       0.63      0.59      0.60     18399\n",
      "\n"
     ]
    }
   ],
   "source": [
    "# Print classification report\n",
    "print(classification_report(y_test, y_pred3))"
   ]
  },
  {
   "cell_type": "code",
   "execution_count": 81,
   "metadata": {},
   "outputs": [
    {
     "data": {
      "image/png": "[encoded data removed]",
      "text/plain": [
       "<Figure size 432x288 with 2 Axes>"
      ]
     },
     "metadata": {
      "needs_background": "light"
     },
     "output_type": "display_data"
    }
   ],
   "source": [
    "plot_confusion_matrix(rf3, X_test, y_test, cmap=plt.cm.Reds)\n",
    "plt.title('Confusion Matrix (Random Forest - upsampling)')\n",
    "plt.show()"
   ]
  },
  {
   "cell_type": "code",
   "execution_count": 82,
   "metadata": {},
   "outputs": [
    {
     "name": "stdout",
     "output_type": "stream",
     "text": [
      "Average cross validation score: 0.643\n"
     ]
    }
   ],
   "source": [
    "# Print average cross val score\n",
    "print('Average cross validation score: %.3f' % cross_val_score(rf3, X_train_up, y_train_up, cv=kfold, scoring='f1').mean())"
   ]
  },
  {
   "cell_type": "markdown",
   "metadata": {},
   "source": [
    "##### Class weight and Upsampling resulted in same weighted avg f1 scores, but 'class weight had better average f1 cross validation score"
   ]
  },
  {
   "cell_type": "markdown",
   "metadata": {},
   "source": [
    "### Search for the best hyper parameter using RandomSearchCV - Random Forest"
   ]
  },
  {
   "cell_type": "code",
   "execution_count": 83,
   "metadata": {},
   "outputs": [],
   "source": [
    "# Create the base model to tune\n",
    "rf5 = RandomForestClassifier(class_weight=weight, random_state=3)\n",
    "\n",
    "random_grid = {'bootstrap': [True, False],\n",
    "                'max_depth': [50, 70, 90, 120, None],\n",
    "                'max_features': ['auto', 'sqrt'],\n",
    "                'min_samples_leaf': [1, 4, 8],\n",
    "                'min_samples_split': [2, 5, 10],\n",
    "                'n_estimators': [25, 50, 100, 125]\n",
    "              }"
   ]
  },
  {
   "cell_type": "code",
   "execution_count": 84,
   "metadata": {},
   "outputs": [],
   "source": [
    "# Use the random grid to search for best hyperparameters\n",
    "rf_random = RandomizedSearchCV(estimator = rf5, \n",
    "                               param_distributions = random_grid, \n",
    "                               cv = kfold, \n",
    "                               verbose=2, \n",
    "                               random_state=3, \n",
    "                               n_jobs = -1\n",
    "                              )"
   ]
  },
  {
   "cell_type": "code",
   "execution_count": 85,
   "metadata": {},
   "outputs": [
    {
     "name": "stdout",
     "output_type": "stream",
     "text": [
      "Fitting 5 folds for each of 10 candidates, totalling 50 fits\n"
     ]
    },
    {
     "name": "stderr",
     "output_type": "stream",
     "text": [
      "[Parallel(n_jobs=-1)]: Using backend LokyBackend with 8 concurrent workers.\n",
      "[Parallel(n_jobs=-1)]: Done  25 tasks      | elapsed:   37.9s\n",
      "[Parallel(n_jobs=-1)]: Done  50 out of  50 | elapsed:  1.1min finished\n"
     ]
    },
    {
     "data": {
      "text/plain": [
       "RandomizedSearchCV(cv=KFold(n_splits=5, random_state=3, shuffle=True),\n",
       "                   estimator=RandomForestClassifier(class_weight={0: 1.8620496546574576,\n",
       "                                                                  1: 1},\n",
       "                                                    random_state=3),\n",
       "                   n_jobs=-1,\n",
       "                   param_distributions={'bootstrap': [True, False],\n",
       "                                        'max_depth': [50, 70, 90, 120, None],\n",
       "                                        'max_features': ['auto', 'sqrt'],\n",
       "                                        'min_samples_leaf': [1, 4, 8],\n",
       "                                        'min_samples_split': [2, 5, 10],\n",
       "                                        'n_estimators': [25, 50, 100, 125]},\n",
       "                   random_state=3, verbose=2)"
      ]
     },
     "execution_count": 85,
     "metadata": {},
     "output_type": "execute_result"
    }
   ],
   "source": [
    "# Fit the random search model\n",
    "rf_random.fit(X_train, y_train)"
   ]
  },
  {
   "cell_type": "code",
   "execution_count": 86,
   "metadata": {},
   "outputs": [
    {
     "name": "stdout",
     "output_type": "stream",
     "text": [
      "{'n_estimators': 125, 'min_samples_split': 5, 'min_samples_leaf': 4, 'max_features': 'sqrt', 'max_depth': 90, 'bootstrap': True}\n"
     ]
    }
   ],
   "source": [
    "print(rf_random.best_params_)"
   ]
  },
  {
   "cell_type": "code",
   "execution_count": 87,
   "metadata": {},
   "outputs": [],
   "source": [
    "# Fit the data and predict\n",
    "rf6 = RandomForestClassifier(**rf_random.best_params_, class_weight=weight, random_state=3)\n",
    "rf6.fit(X_train, y_train)\n",
    "y_pred6 = rf6.predict(X_test)"
   ]
  },
  {
   "cell_type": "code",
   "execution_count": 88,
   "metadata": {},
   "outputs": [
    {
     "name": "stdout",
     "output_type": "stream",
     "text": [
      "              precision    recall  f1-score   support\n",
      "\n",
      "           0       0.45      0.67      0.54      6429\n",
      "           1       0.76      0.55      0.64     11970\n",
      "\n",
      "    accuracy                           0.60     18399\n",
      "   macro avg       0.60      0.61      0.59     18399\n",
      "weighted avg       0.65      0.60      0.60     18399\n",
      "\n"
     ]
    }
   ],
   "source": [
    "print(classification_report(y_test, y_pred6))"
   ]
  },
  {
   "cell_type": "code",
   "execution_count": 89,
   "metadata": {},
   "outputs": [
    {
     "data": {
      "image/png": "[encoded data removed]",
      "text/plain": [
       "<Figure size 432x288 with 2 Axes>"
      ]
     },
     "metadata": {
      "needs_background": "light"
     },
     "output_type": "display_data"
    }
   ],
   "source": [
    "# Plot confusion matrix\n",
    "plot_confusion_matrix(rf6, X_test, y_test, cmap=plt.cm.Reds)\n",
    "plt.title('Confusion Matrix (Random Forest - Best hyperparameters)')\n",
    "plt.show()"
   ]
  },
  {
   "cell_type": "code",
   "execution_count": 90,
   "metadata": {},
   "outputs": [
    {
     "name": "stdout",
     "output_type": "stream",
     "text": [
      "Average cross validation score: 0.421\n"
     ]
    }
   ],
   "source": [
    "# Print average cross val score\n",
    "print('Average cross validation score: %.3f' % cross_val_score(rf6, X_train_up, y_train_up, cv=kfold, scoring='f1').mean())"
   ]
  },
  {
   "cell_type": "markdown",
   "metadata": {},
   "source": [
    "#### RandomSearchCV did not improve weighted avg f1 scores for Random Forest. \n",
    "### Best weighted average f1 score was 0.60, while best cross validation score with 5-kfold was 0.64"
   ]
  },
  {
   "cell_type": "markdown",
   "metadata": {},
   "source": [
    "# Categories - Keras"
   ]
  },
  {
   "cell_type": "code",
   "execution_count": 91,
   "metadata": {},
   "outputs": [],
   "source": [
    "# Keras doesn't have f1, so define functions\n",
    "def recall_m(y_true, y_pred):\n",
    "    true_positives = K.sum(K.round(K.clip(y_true * y_pred, 0, 1)))\n",
    "    possible_positives = K.sum(K.round(K.clip(y_true, 0, 1)))\n",
    "    recall = true_positives / (possible_positives + K.epsilon())\n",
    "    return recall\n",
    "\n",
    "def precision_m(y_true, y_pred):\n",
    "    true_positives = K.sum(K.round(K.clip(y_true * y_pred, 0, 1)))\n",
    "    predicted_positives = K.sum(K.round(K.clip(y_pred, 0, 1)))\n",
    "    precision = true_positives / (predicted_positives + K.epsilon())\n",
    "    return precision\n",
    "\n",
    "def f1_m(y_true, y_pred):\n",
    "    precision = precision_m(y_true, y_pred)\n",
    "    recall = recall_m(y_true, y_pred)\n",
    "    return 2*((precision*recall)/(precision+recall+K.epsilon()))"
   ]
  },
  {
   "cell_type": "code",
   "execution_count": 92,
   "metadata": {
    "scrolled": true
   },
   "outputs": [
    {
     "name": "stdout",
     "output_type": "stream",
     "text": [
      "Epoch 1/10\n",
      "940/940 [==============================] - 8s 7ms/step - loss: 0.9999 - acc: 0.5218 - f1_m: 0.4809 - precision_m: 0.7058 - recall_m: 0.4046 - val_loss: 0.7456 - val_acc: 0.4202 - val_f1_m: 0.2307 - val_precision_m: 0.8146 - val_recall_m: 0.1387\n",
      "Epoch 2/10\n",
      "940/940 [==============================] - 3s 3ms/step - loss: 0.8666 - acc: 0.5580 - f1_m: 0.5495 - precision_m: 0.7485 - recall_m: 0.4737 - val_loss: 0.6658 - val_acc: 0.5981 - val_f1_m: 0.6490 - val_precision_m: 0.7445 - val_recall_m: 0.5850\n",
      "Epoch 3/10\n",
      "940/940 [==============================] - 3s 3ms/step - loss: 0.8600 - acc: 0.5830 - f1_m: 0.5949 - precision_m: 0.7747 - recall_m: 0.5113 - val_loss: 0.6772 - val_acc: 0.6160 - val_f1_m: 0.6778 - val_precision_m: 0.7391 - val_recall_m: 0.6357\n",
      "Epoch 4/10\n",
      "940/940 [==============================] - 3s 3ms/step - loss: 0.8681 - acc: 0.5821 - f1_m: 0.5926 - precision_m: 0.7595 - recall_m: 0.5166 - val_loss: 0.6613 - val_acc: 0.5999 - val_f1_m: 0.6503 - val_precision_m: 0.7460 - val_recall_m: 0.5864\n",
      "Epoch 5/10\n",
      "940/940 [==============================] - 3s 3ms/step - loss: 0.8477 - acc: 0.5909 - f1_m: 0.6090 - precision_m: 0.7745 - recall_m: 0.5259 - val_loss: 0.6465 - val_acc: 0.6231 - val_f1_m: 0.6896 - val_precision_m: 0.7361 - val_recall_m: 0.6588\n",
      "Epoch 6/10\n",
      "940/940 [==============================] - 3s 3ms/step - loss: 0.8393 - acc: 0.6049 - f1_m: 0.6407 - precision_m: 0.7736 - recall_m: 0.5612 - val_loss: 0.6804 - val_acc: 0.5786 - val_f1_m: 0.6074 - val_precision_m: 0.7613 - val_recall_m: 0.5150\n",
      "Epoch 7/10\n",
      "940/940 [==============================] - 3s 3ms/step - loss: 0.8514 - acc: 0.5883 - f1_m: 0.5931 - precision_m: 0.7902 - recall_m: 0.5055 - val_loss: 0.7038 - val_acc: 0.5397 - val_f1_m: 0.5264 - val_precision_m: 0.7855 - val_recall_m: 0.4056\n",
      "Epoch 8/10\n",
      "940/940 [==============================] - 3s 3ms/step - loss: 0.8241 - acc: 0.6155 - f1_m: 0.6507 - precision_m: 0.7859 - recall_m: 0.5700 - val_loss: 0.6641 - val_acc: 0.6008 - val_f1_m: 0.6451 - val_precision_m: 0.7559 - val_recall_m: 0.5726\n",
      "Epoch 9/10\n",
      "940/940 [==============================] - 3s 3ms/step - loss: 0.8387 - acc: 0.6076 - f1_m: 0.6283 - precision_m: 0.7815 - recall_m: 0.5426 - val_loss: 0.6814 - val_acc: 0.5755 - val_f1_m: 0.5955 - val_precision_m: 0.7716 - val_recall_m: 0.4948\n",
      "Epoch 10/10\n",
      "940/940 [==============================] - 3s 3ms/step - loss: 0.8194 - acc: 0.6138 - f1_m: 0.6418 - precision_m: 0.7938 - recall_m: 0.5541 - val_loss: 0.6879 - val_acc: 0.5896 - val_f1_m: 0.6251 - val_precision_m: 0.7619 - val_recall_m: 0.5394\n"
     ]
    }
   ],
   "source": [
    "# Define then run the Keras model\n",
    "np.random.seed(42)\n",
    "tf.random.set_seed(42)\n",
    "\n",
    "model = keras.models.Sequential([\n",
    "    keras.layers.Dense(128, activation='relu'),\n",
    "    keras.layers.Dense(128, activation='relu'),\n",
    "    keras.layers.Dense(128, activation='relu'),\n",
    "    keras.layers.Dense(128, activation='relu'),\n",
    "    keras.layers.Dense(128, activation='relu'),\n",
    "    keras.layers.Dense(1)\n",
    "])\n",
    "\n",
    "# compile the model\n",
    "model.compile(loss='binary_crossentropy', optimizer='adam', metrics=['acc', f1_m, precision_m, recall_m])\n",
    "\n",
    "# fit the model\n",
    "hist = model.fit(np.array(X_train), np.array(y_train), epochs=10, validation_split=0.3, class_weight=weight)"
   ]
  },
  {
   "cell_type": "code",
   "execution_count": 93,
   "metadata": {},
   "outputs": [],
   "source": [
    "# Evaluate the model\n",
    "loss, accuracy, f1_score, precision, recall = model.evaluate(X_test, y_test, verbose=0)"
   ]
  },
  {
   "cell_type": "code",
   "execution_count": 94,
   "metadata": {},
   "outputs": [
    {
     "name": "stdout",
     "output_type": "stream",
     "text": [
      "Keras Model F1 score from Keras is 0.613156795501709\n"
     ]
    }
   ],
   "source": [
    "# Print f1 score\n",
    "print('Keras Model F1 score from Keras is {}'.format(f1_score))"
   ]
  },
  {
   "cell_type": "code",
   "execution_count": 95,
   "metadata": {},
   "outputs": [],
   "source": [
    "# Predict\n",
    "y_pred = model.predict_classes(np.array(X_test))"
   ]
  },
  {
   "cell_type": "code",
   "execution_count": 96,
   "metadata": {},
   "outputs": [
    {
     "name": "stdout",
     "output_type": "stream",
     "text": [
      "              precision    recall  f1-score   support\n",
      "\n",
      "           0       0.43      0.67      0.53      6429\n",
      "           1       0.75      0.53      0.62     11970\n",
      "\n",
      "    accuracy                           0.58     18399\n",
      "   macro avg       0.59      0.60      0.57     18399\n",
      "weighted avg       0.64      0.58      0.59     18399\n",
      "\n"
     ]
    }
   ],
   "source": [
    "print(classification_report(y_test, y_pred))"
   ]
  },
  {
   "cell_type": "markdown",
   "metadata": {},
   "source": [
    "### Best weighted average f1 score was 0.59, while best model score was 0.61"
   ]
  },
  {
   "cell_type": "code",
   "execution_count": null,
   "metadata": {},
   "outputs": [],
   "source": []
  }
 ],
 "metadata": {
  "kernelspec": {
   "display_name": "Python 3",
   "language": "python",
   "name": "python3"
  },
  "language_info": {
   "codemirror_mode": {
    "name": "ipython",
    "version": 3
   },
   "file_extension": ".py",
   "mimetype": "text/x-python",
   "name": "python",
   "nbconvert_exporter": "python",
   "pygments_lexer": "ipython3",
   "version": "3.8.5"
  }
 },
 "nbformat": 4,
 "nbformat_minor": 2
}
