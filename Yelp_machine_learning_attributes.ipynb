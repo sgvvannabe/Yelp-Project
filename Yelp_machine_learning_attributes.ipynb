{
 "cells": [
  {
   "cell_type": "code",
   "execution_count": 1,
   "metadata": {},
   "outputs": [],
   "source": [
    "import re\n",
    "import numpy as np\n",
    "import pandas as pd\n",
    "import warnings\n",
    "warnings.simplefilter(action=\"ignore\")\n",
    "\n",
    "import matplotlib.pyplot as plt\n",
    "import seaborn as sns\n",
    "\n",
    "import xgboost as xgb\n",
    "from sklearn import svm\n",
    "from sklearn.utils import resample\n",
    "from sklearn.ensemble import RandomForestClassifier\n",
    "from sklearn import preprocessing, svm\n",
    "from sklearn.model_selection import train_test_split, KFold, cross_val_score, RandomizedSearchCV, cross_val_predict\n",
    "from sklearn.linear_model import LogisticRegression\n",
    "from sklearn.metrics import precision_recall_curve, plot_precision_recall_curve, plot_confusion_matrix, classification_report\n",
    "import string\n",
    "\n",
    "import tensorflow as tf\n",
    "from tensorflow import keras\n",
    "from tensorflow.keras import backend as K"
   ]
  },
  {
   "cell_type": "code",
   "execution_count": 2,
   "metadata": {},
   "outputs": [],
   "source": [
    "# Load the df dataframe\n",
    "df = pd.read_csv('yelp_ml.csv')"
   ]
  },
  {
   "cell_type": "code",
   "execution_count": 3,
   "metadata": {},
   "outputs": [
    {
     "data": {
      "text/html": [
       "<div>\n",
       "<style scoped>\n",
       "    .dataframe tbody tr th:only-of-type {\n",
       "        vertical-align: middle;\n",
       "    }\n",
       "\n",
       "    .dataframe tbody tr th {\n",
       "        vertical-align: top;\n",
       "    }\n",
       "\n",
       "    .dataframe thead th {\n",
       "        text-align: right;\n",
       "    }\n",
       "</style>\n",
       "<table border=\"1\" class=\"dataframe\">\n",
       "  <thead>\n",
       "    <tr style=\"text-align: right;\">\n",
       "      <th></th>\n",
       "      <th>is_open</th>\n",
       "      <th>business_id</th>\n",
       "      <th>name</th>\n",
       "      <th>stars</th>\n",
       "      <th>review_count</th>\n",
       "      <th>categories</th>\n",
       "      <th>attributes.RestaurantsTableService</th>\n",
       "      <th>attributes.WiFi</th>\n",
       "      <th>attributes.BikeParking</th>\n",
       "      <th>attributes.BusinessAcceptsCreditCards</th>\n",
       "      <th>...</th>\n",
       "      <th>attributes.divey</th>\n",
       "      <th>attributes.trendy</th>\n",
       "      <th>attributes.classy</th>\n",
       "      <th>attributes.casual</th>\n",
       "      <th>attributes.dessert</th>\n",
       "      <th>attributes.latenight</th>\n",
       "      <th>attributes.lunch</th>\n",
       "      <th>attributes.dinner</th>\n",
       "      <th>attributes.brunch</th>\n",
       "      <th>attributes.breakfast</th>\n",
       "    </tr>\n",
       "  </thead>\n",
       "  <tbody>\n",
       "    <tr>\n",
       "      <th>0</th>\n",
       "      <td>1</td>\n",
       "      <td>6iYb2HFDywm3zjuRg0shjw</td>\n",
       "      <td>Oskar Blues Taproom</td>\n",
       "      <td>4.0</td>\n",
       "      <td>86</td>\n",
       "      <td>Gastropubs, Food, Beer Gardens, Restaurants, B...</td>\n",
       "      <td>True</td>\n",
       "      <td>'free'</td>\n",
       "      <td>True</td>\n",
       "      <td>True</td>\n",
       "      <td>...</td>\n",
       "      <td>False</td>\n",
       "      <td>False</td>\n",
       "      <td>False</td>\n",
       "      <td>True</td>\n",
       "      <td>False</td>\n",
       "      <td>False</td>\n",
       "      <td>False</td>\n",
       "      <td>False</td>\n",
       "      <td>False</td>\n",
       "      <td>False</td>\n",
       "    </tr>\n",
       "    <tr>\n",
       "      <th>1</th>\n",
       "      <td>1</td>\n",
       "      <td>tCbdrRPZA0oiIYSmHG3J0w</td>\n",
       "      <td>Flying Elephants at PDX</td>\n",
       "      <td>4.0</td>\n",
       "      <td>126</td>\n",
       "      <td>Salad, Soup, Sandwiches, Delis, Restaurants, C...</td>\n",
       "      <td>Not listed</td>\n",
       "      <td>'free'</td>\n",
       "      <td>False</td>\n",
       "      <td>True</td>\n",
       "      <td>...</td>\n",
       "      <td>False</td>\n",
       "      <td>False</td>\n",
       "      <td>False</td>\n",
       "      <td>True</td>\n",
       "      <td>False</td>\n",
       "      <td>False</td>\n",
       "      <td>True</td>\n",
       "      <td>False</td>\n",
       "      <td>False</td>\n",
       "      <td>True</td>\n",
       "    </tr>\n",
       "    <tr>\n",
       "      <th>2</th>\n",
       "      <td>1</td>\n",
       "      <td>D4JtQNTI4X3KcbzacDJsMw</td>\n",
       "      <td>Bob Likes Thai Food</td>\n",
       "      <td>3.5</td>\n",
       "      <td>169</td>\n",
       "      <td>Restaurants, Thai</td>\n",
       "      <td>Not listed</td>\n",
       "      <td>'no'</td>\n",
       "      <td>True</td>\n",
       "      <td>Not listed</td>\n",
       "      <td>...</td>\n",
       "      <td>False</td>\n",
       "      <td>False</td>\n",
       "      <td>False</td>\n",
       "      <td>True</td>\n",
       "      <td>False</td>\n",
       "      <td>False</td>\n",
       "      <td>True</td>\n",
       "      <td>True</td>\n",
       "      <td>False</td>\n",
       "      <td>False</td>\n",
       "    </tr>\n",
       "    <tr>\n",
       "      <th>3</th>\n",
       "      <td>1</td>\n",
       "      <td>jFYIsSb7r1QeESVUnXPHBw</td>\n",
       "      <td>Boxwood Biscuit</td>\n",
       "      <td>4.5</td>\n",
       "      <td>11</td>\n",
       "      <td>Breakfast &amp; Brunch, Restaurants</td>\n",
       "      <td>Not listed</td>\n",
       "      <td>Not listed</td>\n",
       "      <td>Not listed</td>\n",
       "      <td>Not listed</td>\n",
       "      <td>...</td>\n",
       "      <td>Not listed</td>\n",
       "      <td>Not listed</td>\n",
       "      <td>Not listed</td>\n",
       "      <td>Not listed</td>\n",
       "      <td>Not listed</td>\n",
       "      <td>Not listed</td>\n",
       "      <td>Not listed</td>\n",
       "      <td>Not listed</td>\n",
       "      <td>Not listed</td>\n",
       "      <td>Not listed</td>\n",
       "    </tr>\n",
       "    <tr>\n",
       "      <th>4</th>\n",
       "      <td>1</td>\n",
       "      <td>HPA_qyMEddpAEtFof02ixg</td>\n",
       "      <td>Mr G's Pizza &amp; Subs</td>\n",
       "      <td>4.0</td>\n",
       "      <td>39</td>\n",
       "      <td>Food, Pizza, Restaurants</td>\n",
       "      <td>False</td>\n",
       "      <td>'free'</td>\n",
       "      <td>True</td>\n",
       "      <td>True</td>\n",
       "      <td>...</td>\n",
       "      <td>False</td>\n",
       "      <td>False</td>\n",
       "      <td>False</td>\n",
       "      <td>True</td>\n",
       "      <td>Not listed</td>\n",
       "      <td>Not listed</td>\n",
       "      <td>Not listed</td>\n",
       "      <td>Not listed</td>\n",
       "      <td>Not listed</td>\n",
       "      <td>Not listed</td>\n",
       "    </tr>\n",
       "  </tbody>\n",
       "</table>\n",
       "<p>5 rows × 41 columns</p>\n",
       "</div>"
      ],
      "text/plain": [
       "   is_open             business_id                     name  stars  \\\n",
       "0        1  6iYb2HFDywm3zjuRg0shjw      Oskar Blues Taproom    4.0   \n",
       "1        1  tCbdrRPZA0oiIYSmHG3J0w  Flying Elephants at PDX    4.0   \n",
       "2        1  D4JtQNTI4X3KcbzacDJsMw      Bob Likes Thai Food    3.5   \n",
       "3        1  jFYIsSb7r1QeESVUnXPHBw          Boxwood Biscuit    4.5   \n",
       "4        1  HPA_qyMEddpAEtFof02ixg      Mr G's Pizza & Subs    4.0   \n",
       "\n",
       "   review_count                                         categories  \\\n",
       "0            86  Gastropubs, Food, Beer Gardens, Restaurants, B...   \n",
       "1           126  Salad, Soup, Sandwiches, Delis, Restaurants, C...   \n",
       "2           169                                  Restaurants, Thai   \n",
       "3            11                    Breakfast & Brunch, Restaurants   \n",
       "4            39                           Food, Pizza, Restaurants   \n",
       "\n",
       "  attributes.RestaurantsTableService attributes.WiFi attributes.BikeParking  \\\n",
       "0                               True          'free'                   True   \n",
       "1                         Not listed          'free'                  False   \n",
       "2                         Not listed            'no'                   True   \n",
       "3                         Not listed      Not listed             Not listed   \n",
       "4                              False          'free'                   True   \n",
       "\n",
       "  attributes.BusinessAcceptsCreditCards  ... attributes.divey  \\\n",
       "0                                  True  ...            False   \n",
       "1                                  True  ...            False   \n",
       "2                            Not listed  ...            False   \n",
       "3                            Not listed  ...       Not listed   \n",
       "4                                  True  ...            False   \n",
       "\n",
       "  attributes.trendy attributes.classy attributes.casual attributes.dessert  \\\n",
       "0             False             False              True              False   \n",
       "1             False             False              True              False   \n",
       "2             False             False              True              False   \n",
       "3        Not listed        Not listed        Not listed         Not listed   \n",
       "4             False             False              True         Not listed   \n",
       "\n",
       "  attributes.latenight attributes.lunch attributes.dinner attributes.brunch  \\\n",
       "0                False            False             False             False   \n",
       "1                False             True             False             False   \n",
       "2                False             True              True             False   \n",
       "3           Not listed       Not listed        Not listed        Not listed   \n",
       "4           Not listed       Not listed        Not listed        Not listed   \n",
       "\n",
       "  attributes.breakfast  \n",
       "0                False  \n",
       "1                 True  \n",
       "2                False  \n",
       "3           Not listed  \n",
       "4           Not listed  \n",
       "\n",
       "[5 rows x 41 columns]"
      ]
     },
     "execution_count": 3,
     "metadata": {},
     "output_type": "execute_result"
    }
   ],
   "source": [
    "df.head()"
   ]
  },
  {
   "cell_type": "code",
   "execution_count": 4,
   "metadata": {},
   "outputs": [],
   "source": [
    "# Assign attribute column names\n",
    "attribute_col = [col for col in df.columns if 'attribute' in col]"
   ]
  },
  {
   "cell_type": "code",
   "execution_count": 5,
   "metadata": {},
   "outputs": [],
   "source": [
    "# Transform attribute cols to OneHotEncoded\n",
    "df_ml = pd.get_dummies(df[attribute_col])\n",
    "df_ml.insert(loc=0, column='is_open', value=df['is_open'])"
   ]
  },
  {
   "cell_type": "code",
   "execution_count": 6,
   "metadata": {},
   "outputs": [
    {
     "data": {
      "text/html": [
       "<div>\n",
       "<style scoped>\n",
       "    .dataframe tbody tr th:only-of-type {\n",
       "        vertical-align: middle;\n",
       "    }\n",
       "\n",
       "    .dataframe tbody tr th {\n",
       "        vertical-align: top;\n",
       "    }\n",
       "\n",
       "    .dataframe thead th {\n",
       "        text-align: right;\n",
       "    }\n",
       "</style>\n",
       "<table border=\"1\" class=\"dataframe\">\n",
       "  <thead>\n",
       "    <tr style=\"text-align: right;\">\n",
       "      <th></th>\n",
       "      <th>is_open</th>\n",
       "      <th>attributes.RestaurantsTableService_False</th>\n",
       "      <th>attributes.RestaurantsTableService_Not listed</th>\n",
       "      <th>attributes.RestaurantsTableService_True</th>\n",
       "      <th>attributes.WiFi_'free'</th>\n",
       "      <th>attributes.WiFi_'no'</th>\n",
       "      <th>attributes.WiFi_'paid'</th>\n",
       "      <th>attributes.WiFi_Not listed</th>\n",
       "      <th>attributes.BikeParking_False</th>\n",
       "      <th>attributes.BikeParking_Not listed</th>\n",
       "      <th>...</th>\n",
       "      <th>attributes.lunch_True</th>\n",
       "      <th>attributes.dinner_False</th>\n",
       "      <th>attributes.dinner_Not listed</th>\n",
       "      <th>attributes.dinner_True</th>\n",
       "      <th>attributes.brunch_False</th>\n",
       "      <th>attributes.brunch_Not listed</th>\n",
       "      <th>attributes.brunch_True</th>\n",
       "      <th>attributes.breakfast_False</th>\n",
       "      <th>attributes.breakfast_Not listed</th>\n",
       "      <th>attributes.breakfast_True</th>\n",
       "    </tr>\n",
       "  </thead>\n",
       "  <tbody>\n",
       "    <tr>\n",
       "      <th>0</th>\n",
       "      <td>1</td>\n",
       "      <td>0</td>\n",
       "      <td>0</td>\n",
       "      <td>1</td>\n",
       "      <td>1</td>\n",
       "      <td>0</td>\n",
       "      <td>0</td>\n",
       "      <td>0</td>\n",
       "      <td>0</td>\n",
       "      <td>0</td>\n",
       "      <td>...</td>\n",
       "      <td>0</td>\n",
       "      <td>1</td>\n",
       "      <td>0</td>\n",
       "      <td>0</td>\n",
       "      <td>1</td>\n",
       "      <td>0</td>\n",
       "      <td>0</td>\n",
       "      <td>1</td>\n",
       "      <td>0</td>\n",
       "      <td>0</td>\n",
       "    </tr>\n",
       "    <tr>\n",
       "      <th>1</th>\n",
       "      <td>1</td>\n",
       "      <td>0</td>\n",
       "      <td>1</td>\n",
       "      <td>0</td>\n",
       "      <td>1</td>\n",
       "      <td>0</td>\n",
       "      <td>0</td>\n",
       "      <td>0</td>\n",
       "      <td>1</td>\n",
       "      <td>0</td>\n",
       "      <td>...</td>\n",
       "      <td>1</td>\n",
       "      <td>1</td>\n",
       "      <td>0</td>\n",
       "      <td>0</td>\n",
       "      <td>1</td>\n",
       "      <td>0</td>\n",
       "      <td>0</td>\n",
       "      <td>0</td>\n",
       "      <td>0</td>\n",
       "      <td>1</td>\n",
       "    </tr>\n",
       "    <tr>\n",
       "      <th>2</th>\n",
       "      <td>1</td>\n",
       "      <td>0</td>\n",
       "      <td>1</td>\n",
       "      <td>0</td>\n",
       "      <td>0</td>\n",
       "      <td>1</td>\n",
       "      <td>0</td>\n",
       "      <td>0</td>\n",
       "      <td>0</td>\n",
       "      <td>0</td>\n",
       "      <td>...</td>\n",
       "      <td>1</td>\n",
       "      <td>0</td>\n",
       "      <td>0</td>\n",
       "      <td>1</td>\n",
       "      <td>1</td>\n",
       "      <td>0</td>\n",
       "      <td>0</td>\n",
       "      <td>1</td>\n",
       "      <td>0</td>\n",
       "      <td>0</td>\n",
       "    </tr>\n",
       "    <tr>\n",
       "      <th>3</th>\n",
       "      <td>1</td>\n",
       "      <td>0</td>\n",
       "      <td>1</td>\n",
       "      <td>0</td>\n",
       "      <td>0</td>\n",
       "      <td>0</td>\n",
       "      <td>0</td>\n",
       "      <td>1</td>\n",
       "      <td>0</td>\n",
       "      <td>1</td>\n",
       "      <td>...</td>\n",
       "      <td>0</td>\n",
       "      <td>0</td>\n",
       "      <td>1</td>\n",
       "      <td>0</td>\n",
       "      <td>0</td>\n",
       "      <td>1</td>\n",
       "      <td>0</td>\n",
       "      <td>0</td>\n",
       "      <td>1</td>\n",
       "      <td>0</td>\n",
       "    </tr>\n",
       "    <tr>\n",
       "      <th>4</th>\n",
       "      <td>1</td>\n",
       "      <td>1</td>\n",
       "      <td>0</td>\n",
       "      <td>0</td>\n",
       "      <td>1</td>\n",
       "      <td>0</td>\n",
       "      <td>0</td>\n",
       "      <td>0</td>\n",
       "      <td>0</td>\n",
       "      <td>0</td>\n",
       "      <td>...</td>\n",
       "      <td>0</td>\n",
       "      <td>0</td>\n",
       "      <td>1</td>\n",
       "      <td>0</td>\n",
       "      <td>0</td>\n",
       "      <td>1</td>\n",
       "      <td>0</td>\n",
       "      <td>0</td>\n",
       "      <td>1</td>\n",
       "      <td>0</td>\n",
       "    </tr>\n",
       "  </tbody>\n",
       "</table>\n",
       "<p>5 rows × 113 columns</p>\n",
       "</div>"
      ],
      "text/plain": [
       "   is_open  attributes.RestaurantsTableService_False  \\\n",
       "0        1                                         0   \n",
       "1        1                                         0   \n",
       "2        1                                         0   \n",
       "3        1                                         0   \n",
       "4        1                                         1   \n",
       "\n",
       "   attributes.RestaurantsTableService_Not listed  \\\n",
       "0                                              0   \n",
       "1                                              1   \n",
       "2                                              1   \n",
       "3                                              1   \n",
       "4                                              0   \n",
       "\n",
       "   attributes.RestaurantsTableService_True  attributes.WiFi_'free'  \\\n",
       "0                                        1                       1   \n",
       "1                                        0                       1   \n",
       "2                                        0                       0   \n",
       "3                                        0                       0   \n",
       "4                                        0                       1   \n",
       "\n",
       "   attributes.WiFi_'no'  attributes.WiFi_'paid'  attributes.WiFi_Not listed  \\\n",
       "0                     0                       0                           0   \n",
       "1                     0                       0                           0   \n",
       "2                     1                       0                           0   \n",
       "3                     0                       0                           1   \n",
       "4                     0                       0                           0   \n",
       "\n",
       "   attributes.BikeParking_False  attributes.BikeParking_Not listed  ...  \\\n",
       "0                             0                                  0  ...   \n",
       "1                             1                                  0  ...   \n",
       "2                             0                                  0  ...   \n",
       "3                             0                                  1  ...   \n",
       "4                             0                                  0  ...   \n",
       "\n",
       "   attributes.lunch_True  attributes.dinner_False  \\\n",
       "0                      0                        1   \n",
       "1                      1                        1   \n",
       "2                      1                        0   \n",
       "3                      0                        0   \n",
       "4                      0                        0   \n",
       "\n",
       "   attributes.dinner_Not listed  attributes.dinner_True  \\\n",
       "0                             0                       0   \n",
       "1                             0                       0   \n",
       "2                             0                       1   \n",
       "3                             1                       0   \n",
       "4                             1                       0   \n",
       "\n",
       "   attributes.brunch_False  attributes.brunch_Not listed  \\\n",
       "0                        1                             0   \n",
       "1                        1                             0   \n",
       "2                        1                             0   \n",
       "3                        0                             1   \n",
       "4                        0                             1   \n",
       "\n",
       "   attributes.brunch_True  attributes.breakfast_False  \\\n",
       "0                       0                           1   \n",
       "1                       0                           0   \n",
       "2                       0                           1   \n",
       "3                       0                           0   \n",
       "4                       0                           0   \n",
       "\n",
       "   attributes.breakfast_Not listed  attributes.breakfast_True  \n",
       "0                                0                          0  \n",
       "1                                0                          1  \n",
       "2                                0                          0  \n",
       "3                                1                          0  \n",
       "4                                1                          0  \n",
       "\n",
       "[5 rows x 113 columns]"
      ]
     },
     "execution_count": 6,
     "metadata": {},
     "output_type": "execute_result"
    }
   ],
   "source": [
    "df_ml.head()"
   ]
  },
  {
   "cell_type": "markdown",
   "metadata": {},
   "source": [
    "# Attributes - Logistic Regression"
   ]
  },
  {
   "cell_type": "markdown",
   "metadata": {},
   "source": [
    "### Baseline Model - Logistic Regression"
   ]
  },
  {
   "cell_type": "code",
   "execution_count": 7,
   "metadata": {},
   "outputs": [],
   "source": [
    "# Define X and y\n",
    "X = df_ml.drop('is_open', axis=1)\n",
    "y = df_ml['is_open']\n",
    "\n",
    "# Split the data into train and test sets\n",
    "X_train, X_test, y_train, y_test = train_test_split(X, y, test_size=0.3, random_state=3, stratify=y)"
   ]
  },
  {
   "cell_type": "code",
   "execution_count": 8,
   "metadata": {},
   "outputs": [],
   "source": [
    "# Logistic Regression - Baseline model\n",
    "lr = LogisticRegression(max_iter=1000, random_state=3)"
   ]
  },
  {
   "cell_type": "code",
   "execution_count": 9,
   "metadata": {},
   "outputs": [],
   "source": [
    "# Fit the data and predict\n",
    "lr.fit(X_train, y_train)\n",
    "y_pred = lr.predict(X_test)"
   ]
  },
  {
   "cell_type": "code",
   "execution_count": 10,
   "metadata": {},
   "outputs": [
    {
     "name": "stdout",
     "output_type": "stream",
     "text": [
      "              precision    recall  f1-score   support\n",
      "\n",
      "           0       0.76      0.63      0.69      6429\n",
      "           1       0.82      0.90      0.86     11970\n",
      "\n",
      "    accuracy                           0.80     18399\n",
      "   macro avg       0.79      0.76      0.77     18399\n",
      "weighted avg       0.80      0.80      0.80     18399\n",
      "\n"
     ]
    }
   ],
   "source": [
    "# Print classification report\n",
    "print(classification_report(y_test, y_pred))"
   ]
  },
  {
   "cell_type": "code",
   "execution_count": 11,
   "metadata": {
    "scrolled": false
   },
   "outputs": [
    {
     "data": {
      "image/png": "[encoded data removed]",
      "text/plain": [
       "<Figure size 432x288 with 1 Axes>"
      ]
     },
     "metadata": {
      "needs_background": "light"
     },
     "output_type": "display_data"
    }
   ],
   "source": [
    "# Plot precision recall curve\n",
    "plot_precision_recall_curve(lr, X_test, y_test)\n",
    "plt.title('Precision-Recall curve (Baseline model)')\n",
    "plt.show()"
   ]
  },
  {
   "cell_type": "code",
   "execution_count": 12,
   "metadata": {},
   "outputs": [
    {
     "data": {
      "image/png": "[encoded data removed]",
      "text/plain": [
       "<Figure size 432x288 with 2 Axes>"
      ]
     },
     "metadata": {
      "needs_background": "light"
     },
     "output_type": "display_data"
    }
   ],
   "source": [
    "# Plot confusion matrix\n",
    "plot_confusion_matrix(lr, X_test, y_test, cmap=plt.cm.Blues)\n",
    "plt.title('Confusion Matrix (Logistic Regression - baseline model)')\n",
    "plt.show()"
   ]
  },
  {
   "cell_type": "markdown",
   "metadata": {},
   "source": [
    "#### Let's not forget! We have imbalanced dataset."
   ]
  },
  {
   "cell_type": "code",
   "execution_count": 13,
   "metadata": {},
   "outputs": [
    {
     "name": "stdout",
     "output_type": "stream",
     "text": [
      "There are 21428 closed restaurants.\n",
      "There are 39900 open restaurants.\n"
     ]
    }
   ],
   "source": [
    "print('There are {} closed restaurants.'.format(len(df_ml[df_ml.is_open == 0])))\n",
    "print('There are {} open restaurants.'.format(len(df_ml[df_ml.is_open == 1])))"
   ]
  },
  {
   "cell_type": "markdown",
   "metadata": {},
   "source": [
    "##### Balancing techniques will have to be used to balanced the dataset."
   ]
  },
  {
   "cell_type": "markdown",
   "metadata": {},
   "source": [
    "### Class Weight vs. Upsampling performance - Logistic Regression"
   ]
  },
  {
   "cell_type": "markdown",
   "metadata": {},
   "source": [
    "Theoretically, applying class weight vs. upsampling should be almost exactly the same. But both performances will be tested on a baseline model to see which performs better."
   ]
  },
  {
   "cell_type": "markdown",
   "metadata": {},
   "source": [
    "#### Class weight performance"
   ]
  },
  {
   "cell_type": "code",
   "execution_count": 14,
   "metadata": {},
   "outputs": [],
   "source": [
    "# Define class weight\n",
    "weight = {0: (len(df_ml[df_ml.is_open == 1])/len(df_ml[df_ml.is_open == 0])) , 1:1}\n",
    "\n",
    "# Fit the data and predict\n",
    "lr2 = LogisticRegression(max_iter=1000, random_state=3, class_weight=weight)\n",
    "lr2.fit(X_train, y_train)\n",
    "y_pred2 = lr2.predict(X_test)"
   ]
  },
  {
   "cell_type": "code",
   "execution_count": 15,
   "metadata": {},
   "outputs": [],
   "source": [
    "# Define KFold\n",
    "kfold = KFold(n_splits=5, shuffle=True, random_state=3)"
   ]
  },
  {
   "cell_type": "code",
   "execution_count": 16,
   "metadata": {},
   "outputs": [
    {
     "name": "stdout",
     "output_type": "stream",
     "text": [
      "              precision    recall  f1-score   support\n",
      "\n",
      "           0       0.65      0.75      0.70      6429\n",
      "           1       0.86      0.79      0.82     11970\n",
      "\n",
      "    accuracy                           0.77     18399\n",
      "   macro avg       0.75      0.77      0.76     18399\n",
      "weighted avg       0.79      0.77      0.78     18399\n",
      "\n"
     ]
    }
   ],
   "source": [
    "# Print classification report\n",
    "print(classification_report(y_test, y_pred2))"
   ]
  },
  {
   "cell_type": "code",
   "execution_count": 17,
   "metadata": {},
   "outputs": [
    {
     "data": {
      "image/png": "[encoded data removed]",
      "text/plain": [
       "<Figure size 432x288 with 2 Axes>"
      ]
     },
     "metadata": {
      "needs_background": "light"
     },
     "output_type": "display_data"
    }
   ],
   "source": [
    "plot_confusion_matrix(lr2, X_test, y_test, cmap=plt.cm.Blues)\n",
    "plt.title('Confusion Matrix (Logistic Regression - class weight)')\n",
    "plt.show()"
   ]
  },
  {
   "cell_type": "code",
   "execution_count": 18,
   "metadata": {},
   "outputs": [
    {
     "name": "stdout",
     "output_type": "stream",
     "text": [
      "Average cross validation score: 0.816\n"
     ]
    }
   ],
   "source": [
    "# Average cross validation score\n",
    "print('Average cross validation score: %.3f' % cross_val_score(lr2, X_train, y_train, cv=kfold, scoring='f1').mean())"
   ]
  },
  {
   "cell_type": "markdown",
   "metadata": {},
   "source": [
    "#### Upsampling performance"
   ]
  },
  {
   "cell_type": "code",
   "execution_count": 19,
   "metadata": {},
   "outputs": [
    {
     "data": {
      "text/html": [
       "<div>\n",
       "<style scoped>\n",
       "    .dataframe tbody tr th:only-of-type {\n",
       "        vertical-align: middle;\n",
       "    }\n",
       "\n",
       "    .dataframe tbody tr th {\n",
       "        vertical-align: top;\n",
       "    }\n",
       "\n",
       "    .dataframe thead th {\n",
       "        text-align: right;\n",
       "    }\n",
       "</style>\n",
       "<table border=\"1\" class=\"dataframe\">\n",
       "  <thead>\n",
       "    <tr style=\"text-align: right;\">\n",
       "      <th></th>\n",
       "      <th>is_open</th>\n",
       "      <th>attributes.RestaurantsTableService_False</th>\n",
       "      <th>attributes.RestaurantsTableService_Not listed</th>\n",
       "      <th>attributes.RestaurantsTableService_True</th>\n",
       "      <th>attributes.WiFi_'free'</th>\n",
       "      <th>attributes.WiFi_'no'</th>\n",
       "      <th>attributes.WiFi_'paid'</th>\n",
       "      <th>attributes.WiFi_Not listed</th>\n",
       "      <th>attributes.BikeParking_False</th>\n",
       "      <th>attributes.BikeParking_Not listed</th>\n",
       "      <th>...</th>\n",
       "      <th>attributes.lunch_True</th>\n",
       "      <th>attributes.dinner_False</th>\n",
       "      <th>attributes.dinner_Not listed</th>\n",
       "      <th>attributes.dinner_True</th>\n",
       "      <th>attributes.brunch_False</th>\n",
       "      <th>attributes.brunch_Not listed</th>\n",
       "      <th>attributes.brunch_True</th>\n",
       "      <th>attributes.breakfast_False</th>\n",
       "      <th>attributes.breakfast_Not listed</th>\n",
       "      <th>attributes.breakfast_True</th>\n",
       "    </tr>\n",
       "  </thead>\n",
       "  <tbody>\n",
       "    <tr>\n",
       "      <th>4537</th>\n",
       "      <td>1</td>\n",
       "      <td>1</td>\n",
       "      <td>0</td>\n",
       "      <td>0</td>\n",
       "      <td>1</td>\n",
       "      <td>0</td>\n",
       "      <td>0</td>\n",
       "      <td>0</td>\n",
       "      <td>0</td>\n",
       "      <td>0</td>\n",
       "      <td>...</td>\n",
       "      <td>0</td>\n",
       "      <td>1</td>\n",
       "      <td>0</td>\n",
       "      <td>0</td>\n",
       "      <td>1</td>\n",
       "      <td>0</td>\n",
       "      <td>0</td>\n",
       "      <td>1</td>\n",
       "      <td>0</td>\n",
       "      <td>0</td>\n",
       "    </tr>\n",
       "    <tr>\n",
       "      <th>55562</th>\n",
       "      <td>0</td>\n",
       "      <td>0</td>\n",
       "      <td>1</td>\n",
       "      <td>0</td>\n",
       "      <td>0</td>\n",
       "      <td>0</td>\n",
       "      <td>0</td>\n",
       "      <td>1</td>\n",
       "      <td>0</td>\n",
       "      <td>1</td>\n",
       "      <td>...</td>\n",
       "      <td>0</td>\n",
       "      <td>0</td>\n",
       "      <td>1</td>\n",
       "      <td>0</td>\n",
       "      <td>0</td>\n",
       "      <td>1</td>\n",
       "      <td>0</td>\n",
       "      <td>0</td>\n",
       "      <td>1</td>\n",
       "      <td>0</td>\n",
       "    </tr>\n",
       "    <tr>\n",
       "      <th>43077</th>\n",
       "      <td>1</td>\n",
       "      <td>1</td>\n",
       "      <td>0</td>\n",
       "      <td>0</td>\n",
       "      <td>1</td>\n",
       "      <td>0</td>\n",
       "      <td>0</td>\n",
       "      <td>0</td>\n",
       "      <td>0</td>\n",
       "      <td>0</td>\n",
       "      <td>...</td>\n",
       "      <td>0</td>\n",
       "      <td>1</td>\n",
       "      <td>0</td>\n",
       "      <td>0</td>\n",
       "      <td>1</td>\n",
       "      <td>0</td>\n",
       "      <td>0</td>\n",
       "      <td>1</td>\n",
       "      <td>0</td>\n",
       "      <td>0</td>\n",
       "    </tr>\n",
       "    <tr>\n",
       "      <th>8597</th>\n",
       "      <td>1</td>\n",
       "      <td>0</td>\n",
       "      <td>1</td>\n",
       "      <td>0</td>\n",
       "      <td>0</td>\n",
       "      <td>0</td>\n",
       "      <td>0</td>\n",
       "      <td>1</td>\n",
       "      <td>0</td>\n",
       "      <td>1</td>\n",
       "      <td>...</td>\n",
       "      <td>0</td>\n",
       "      <td>0</td>\n",
       "      <td>1</td>\n",
       "      <td>0</td>\n",
       "      <td>0</td>\n",
       "      <td>1</td>\n",
       "      <td>0</td>\n",
       "      <td>0</td>\n",
       "      <td>1</td>\n",
       "      <td>0</td>\n",
       "    </tr>\n",
       "    <tr>\n",
       "      <th>26000</th>\n",
       "      <td>0</td>\n",
       "      <td>0</td>\n",
       "      <td>1</td>\n",
       "      <td>0</td>\n",
       "      <td>0</td>\n",
       "      <td>1</td>\n",
       "      <td>0</td>\n",
       "      <td>0</td>\n",
       "      <td>0</td>\n",
       "      <td>0</td>\n",
       "      <td>...</td>\n",
       "      <td>0</td>\n",
       "      <td>0</td>\n",
       "      <td>1</td>\n",
       "      <td>0</td>\n",
       "      <td>0</td>\n",
       "      <td>1</td>\n",
       "      <td>0</td>\n",
       "      <td>0</td>\n",
       "      <td>1</td>\n",
       "      <td>0</td>\n",
       "    </tr>\n",
       "  </tbody>\n",
       "</table>\n",
       "<p>5 rows × 113 columns</p>\n",
       "</div>"
      ],
      "text/plain": [
       "       is_open  attributes.RestaurantsTableService_False  \\\n",
       "4537         1                                         1   \n",
       "55562        0                                         0   \n",
       "43077        1                                         1   \n",
       "8597         1                                         0   \n",
       "26000        0                                         0   \n",
       "\n",
       "       attributes.RestaurantsTableService_Not listed  \\\n",
       "4537                                               0   \n",
       "55562                                              1   \n",
       "43077                                              0   \n",
       "8597                                               1   \n",
       "26000                                              1   \n",
       "\n",
       "       attributes.RestaurantsTableService_True  attributes.WiFi_'free'  \\\n",
       "4537                                         0                       1   \n",
       "55562                                        0                       0   \n",
       "43077                                        0                       1   \n",
       "8597                                         0                       0   \n",
       "26000                                        0                       0   \n",
       "\n",
       "       attributes.WiFi_'no'  attributes.WiFi_'paid'  \\\n",
       "4537                      0                       0   \n",
       "55562                     0                       0   \n",
       "43077                     0                       0   \n",
       "8597                      0                       0   \n",
       "26000                     1                       0   \n",
       "\n",
       "       attributes.WiFi_Not listed  attributes.BikeParking_False  \\\n",
       "4537                            0                             0   \n",
       "55562                           1                             0   \n",
       "43077                           0                             0   \n",
       "8597                            1                             0   \n",
       "26000                           0                             0   \n",
       "\n",
       "       attributes.BikeParking_Not listed  ...  attributes.lunch_True  \\\n",
       "4537                                   0  ...                      0   \n",
       "55562                                  1  ...                      0   \n",
       "43077                                  0  ...                      0   \n",
       "8597                                   1  ...                      0   \n",
       "26000                                  0  ...                      0   \n",
       "\n",
       "       attributes.dinner_False  attributes.dinner_Not listed  \\\n",
       "4537                         1                             0   \n",
       "55562                        0                             1   \n",
       "43077                        1                             0   \n",
       "8597                         0                             1   \n",
       "26000                        0                             1   \n",
       "\n",
       "       attributes.dinner_True  attributes.brunch_False  \\\n",
       "4537                        0                        1   \n",
       "55562                       0                        0   \n",
       "43077                       0                        1   \n",
       "8597                        0                        0   \n",
       "26000                       0                        0   \n",
       "\n",
       "       attributes.brunch_Not listed  attributes.brunch_True  \\\n",
       "4537                              0                       0   \n",
       "55562                             1                       0   \n",
       "43077                             0                       0   \n",
       "8597                              1                       0   \n",
       "26000                             1                       0   \n",
       "\n",
       "       attributes.breakfast_False  attributes.breakfast_Not listed  \\\n",
       "4537                            1                                0   \n",
       "55562                           0                                1   \n",
       "43077                           1                                0   \n",
       "8597                            0                                1   \n",
       "26000                           0                                1   \n",
       "\n",
       "       attributes.breakfast_True  \n",
       "4537                           0  \n",
       "55562                          0  \n",
       "43077                          0  \n",
       "8597                           0  \n",
       "26000                          0  \n",
       "\n",
       "[5 rows x 113 columns]"
      ]
     },
     "execution_count": 19,
     "metadata": {},
     "output_type": "execute_result"
    }
   ],
   "source": [
    "# Concatenate the training data\n",
    "df_Xy_train = pd.concat([y_train, X_train], axis=1)\n",
    "df_Xy_train.head()"
   ]
  },
  {
   "cell_type": "code",
   "execution_count": 20,
   "metadata": {},
   "outputs": [],
   "source": [
    "# Separate closed and open restaurants\n",
    "df_closed = df_Xy_train[df_Xy_train.is_open == 0]\n",
    "df_open = df_Xy_train[df_Xy_train.is_open == 1]"
   ]
  },
  {
   "cell_type": "code",
   "execution_count": 21,
   "metadata": {},
   "outputs": [
    {
     "name": "stdout",
     "output_type": "stream",
     "text": [
      "From the training set, there are 14999 closed restaurants.\n",
      "From the training set, there are 27930 open restaurants.\n"
     ]
    }
   ],
   "source": [
    "print('From the training set, there are {} closed restaurants.'.format(len(df_closed)))\n",
    "print('From the training set, there are {} open restaurants.'.format(len(df_open)))"
   ]
  },
  {
   "cell_type": "code",
   "execution_count": 22,
   "metadata": {},
   "outputs": [],
   "source": [
    "# Upsample closed restaurants\n",
    "df_closed = resample(df_closed, replace=True, n_samples=len(df_open), random_state=3) "
   ]
  },
  {
   "cell_type": "code",
   "execution_count": 23,
   "metadata": {},
   "outputs": [],
   "source": [
    "# Combine open and upsampled closed restaurants\n",
    "df_upsampled = pd.concat([df_closed, df_open])"
   ]
  },
  {
   "cell_type": "code",
   "execution_count": 24,
   "metadata": {},
   "outputs": [],
   "source": [
    "# Split the upsampled data into X_train and y_train\n",
    "X_train_up = df_upsampled.drop('is_open', axis=1)\n",
    "y_train_up = df_upsampled['is_open']"
   ]
  },
  {
   "cell_type": "code",
   "execution_count": 25,
   "metadata": {},
   "outputs": [],
   "source": [
    "# Fit the data and predict\n",
    "lr3 = LogisticRegression(max_iter=1000, random_state=3)\n",
    "lr3.fit(X_train_up, y_train_up)\n",
    "y_pred3 = lr3.predict(X_test)"
   ]
  },
  {
   "cell_type": "code",
   "execution_count": 26,
   "metadata": {},
   "outputs": [
    {
     "name": "stdout",
     "output_type": "stream",
     "text": [
      "              precision    recall  f1-score   support\n",
      "\n",
      "           0       0.65      0.75      0.70      6429\n",
      "           1       0.86      0.79      0.82     11970\n",
      "\n",
      "    accuracy                           0.77     18399\n",
      "   macro avg       0.75      0.77      0.76     18399\n",
      "weighted avg       0.79      0.77      0.78     18399\n",
      "\n"
     ]
    }
   ],
   "source": [
    "# Print classification report\n",
    "print(classification_report(y_test, y_pred3))"
   ]
  },
  {
   "cell_type": "code",
   "execution_count": 27,
   "metadata": {},
   "outputs": [
    {
     "data": {
      "image/png": "[encoded data removed]",
      "text/plain": [
       "<Figure size 432x288 with 2 Axes>"
      ]
     },
     "metadata": {
      "needs_background": "light"
     },
     "output_type": "display_data"
    }
   ],
   "source": [
    "plot_confusion_matrix(lr3, X_test, y_test, cmap=plt.cm.Blues)\n",
    "plt.title('Confusion Matrix (Logistic Regression - upsampling)')\n",
    "plt.show()"
   ]
  },
  {
   "cell_type": "code",
   "execution_count": 28,
   "metadata": {},
   "outputs": [
    {
     "name": "stdout",
     "output_type": "stream",
     "text": [
      "Average cross validation score: 0.768\n"
     ]
    }
   ],
   "source": [
    "# Print average cross val score\n",
    "print('Average cross validation score: %.3f' % cross_val_score(lr3, X_train_up, y_train_up, cv=kfold, scoring='f1').mean())"
   ]
  },
  {
   "cell_type": "markdown",
   "metadata": {},
   "source": [
    "##### Class weight and Upsampling resulted in same weighted avg f1 scores, but 'class weight' had better average f1 cross validation score"
   ]
  },
  {
   "cell_type": "markdown",
   "metadata": {},
   "source": [
    "### Search for the best hyper parameter using RandomSearchCV - Logistic Regression."
   ]
  },
  {
   "cell_type": "code",
   "execution_count": 29,
   "metadata": {},
   "outputs": [],
   "source": [
    "# Set the parameters to search for\n",
    "lr5 = LogisticRegression(class_weight=weight, random_state=3)\n",
    "\n",
    "lr_grid = {'penalty': ['l1', 'l2', 'elasticnet', 'none'],\n",
    "           'dual':[True, False],\n",
    "          'max_iter':[int(x) for x in np.linspace(start=500, stop=1500, num=100)],\n",
    "          'C':[0.5,1.0,1.5]}"
   ]
  },
  {
   "cell_type": "code",
   "execution_count": 30,
   "metadata": {},
   "outputs": [],
   "source": [
    "# Define Random Search CV\n",
    "lr_random = RandomizedSearchCV(estimator = lr5, param_distributions=lr_grid, cv = kfold, random_state=3, n_jobs = -1)"
   ]
  },
  {
   "cell_type": "code",
   "execution_count": 31,
   "metadata": {},
   "outputs": [
    {
     "data": {
      "text/plain": [
       "RandomizedSearchCV(cv=KFold(n_splits=5, random_state=3, shuffle=True),\n",
       "                   estimator=LogisticRegression(class_weight={0: 1.8620496546574576,\n",
       "                                                              1: 1},\n",
       "                                                random_state=3),\n",
       "                   n_jobs=-1,\n",
       "                   param_distributions={'C': [0.5, 1.0, 1.5],\n",
       "                                        'dual': [True, False],\n",
       "                                        'max_iter': [500, 510, 520, 530, 540,\n",
       "                                                     550, 560, 570, 580, 590,\n",
       "                                                     601, 611, 621, 631, 641,\n",
       "                                                     651, 661, 671, 681, 691,\n",
       "                                                     702, 712, 722, 732, 742,\n",
       "                                                     752, 762, 772, 782, 792, ...],\n",
       "                                        'penalty': ['l1', 'l2', 'elasticnet',\n",
       "                                                    'none']},\n",
       "                   random_state=3)"
      ]
     },
     "execution_count": 31,
     "metadata": {},
     "output_type": "execute_result"
    }
   ],
   "source": [
    "# Fit the training data\n",
    "lr_random.fit(X_train, y_train)"
   ]
  },
  {
   "cell_type": "code",
   "execution_count": 32,
   "metadata": {},
   "outputs": [
    {
     "name": "stdout",
     "output_type": "stream",
     "text": [
      "{'penalty': 'l2', 'max_iter': 1479, 'dual': False, 'C': 0.5}\n"
     ]
    }
   ],
   "source": [
    "# Print the best parameters\n",
    "print(lr_random.best_params_)"
   ]
  },
  {
   "cell_type": "code",
   "execution_count": 33,
   "metadata": {},
   "outputs": [],
   "source": [
    "# Instantiate LogisticRegression\n",
    "lr6 = LogisticRegression(**lr_random.best_params_, class_weight=weight, random_state=3)"
   ]
  },
  {
   "cell_type": "code",
   "execution_count": 34,
   "metadata": {},
   "outputs": [],
   "source": [
    "# Fit data and predict\n",
    "lr6.fit(X_train, y_train)\n",
    "y_pred6 = lr6.predict(X_test)"
   ]
  },
  {
   "cell_type": "code",
   "execution_count": 35,
   "metadata": {
    "scrolled": true
   },
   "outputs": [
    {
     "name": "stdout",
     "output_type": "stream",
     "text": [
      "              precision    recall  f1-score   support\n",
      "\n",
      "           0       0.66      0.75      0.70      6429\n",
      "           1       0.86      0.79      0.82     11970\n",
      "\n",
      "    accuracy                           0.78     18399\n",
      "   macro avg       0.76      0.77      0.76     18399\n",
      "weighted avg       0.79      0.78      0.78     18399\n",
      "\n"
     ]
    }
   ],
   "source": [
    "# Print classification report\n",
    "print(classification_report(y_test, y_pred6))"
   ]
  },
  {
   "cell_type": "code",
   "execution_count": 36,
   "metadata": {
    "scrolled": true
   },
   "outputs": [
    {
     "data": {
      "image/png": "[encoded data removed]",
      "text/plain": [
       "<Figure size 432x288 with 2 Axes>"
      ]
     },
     "metadata": {
      "needs_background": "light"
     },
     "output_type": "display_data"
    }
   ],
   "source": [
    "# Plot confusion matrix\n",
    "plot_confusion_matrix(lr6, X_test, y_test, cmap=plt.cm.Blues)\n",
    "plt.title('Confusion Matrix (Logistic Regression - Best hyperparameters)')\n",
    "plt.show()"
   ]
  },
  {
   "cell_type": "code",
   "execution_count": 37,
   "metadata": {},
   "outputs": [
    {
     "name": "stdout",
     "output_type": "stream",
     "text": [
      "              precision    recall  f1-score   support\n",
      "\n",
      "           0       0.65      0.75      0.70     21428\n",
      "           1       0.85      0.79      0.82     39900\n",
      "\n",
      "    accuracy                           0.77     61328\n",
      "   macro avg       0.75      0.77      0.76     61328\n",
      "weighted avg       0.78      0.77      0.78     61328\n",
      "\n"
     ]
    }
   ],
   "source": [
    "# Check cross validated classification report\n",
    "cross_predicted = cross_val_predict(lr6, X, y, cv=kfold)\n",
    "print(classification_report(y, cross_predicted))"
   ]
  },
  {
   "cell_type": "code",
   "execution_count": 38,
   "metadata": {
    "scrolled": true
   },
   "outputs": [
    {
     "name": "stdout",
     "output_type": "stream",
     "text": [
      "Average cross validation score: 0.816\n"
     ]
    }
   ],
   "source": [
    "print('Average cross validation score: %.3f' % cross_val_score(lr6, X_train, y_train, cv=kfold, scoring='f1').mean())"
   ]
  },
  {
   "cell_type": "markdown",
   "metadata": {},
   "source": [
    "#### RandomSearchCV did not improve weighted avg f1 scores for logistic regression. \n",
    "### Best weighted average f1 score was 0.78, while best cross validation score with 5-kfold was 0.82"
   ]
  },
  {
   "cell_type": "markdown",
   "metadata": {},
   "source": [
    "# Attributes - Random Forest"
   ]
  },
  {
   "cell_type": "markdown",
   "metadata": {},
   "source": [
    "### Random Forest Baseline Model - Attributes"
   ]
  },
  {
   "cell_type": "code",
   "execution_count": 39,
   "metadata": {},
   "outputs": [],
   "source": [
    "# Random Forest Baseline Model\n",
    "rf = RandomForestClassifier(n_estimators=100, random_state=3)"
   ]
  },
  {
   "cell_type": "code",
   "execution_count": 40,
   "metadata": {},
   "outputs": [],
   "source": [
    "# Define X and y\n",
    "X = df_ml.drop('is_open', axis=1)\n",
    "y = df_ml['is_open']\n",
    "\n",
    "# Split the data into train and test sets\n",
    "X_train, X_test, y_train, y_test = train_test_split(X, y, test_size=0.3, random_state=3, stratify=y)"
   ]
  },
  {
   "cell_type": "code",
   "execution_count": 41,
   "metadata": {},
   "outputs": [],
   "source": [
    "# Fit data, predict, and print accuracy\n",
    "rf.fit(X_train, y_train)\n",
    "y_pred = rf.predict(X_test)"
   ]
  },
  {
   "cell_type": "code",
   "execution_count": 42,
   "metadata": {},
   "outputs": [
    {
     "name": "stdout",
     "output_type": "stream",
     "text": [
      "              precision    recall  f1-score   support\n",
      "\n",
      "           0       0.79      0.66      0.72      6429\n",
      "           1       0.83      0.91      0.87     11970\n",
      "\n",
      "    accuracy                           0.82     18399\n",
      "   macro avg       0.81      0.78      0.79     18399\n",
      "weighted avg       0.82      0.82      0.82     18399\n",
      "\n"
     ]
    }
   ],
   "source": [
    "# Print classification report\n",
    "print(classification_report(y_test, y_pred))"
   ]
  },
  {
   "cell_type": "code",
   "execution_count": 43,
   "metadata": {},
   "outputs": [
    {
     "data": {
      "image/png": "[encoded data removed]",
      "text/plain": [
       "<Figure size 432x288 with 1 Axes>"
      ]
     },
     "metadata": {
      "needs_background": "light"
     },
     "output_type": "display_data"
    }
   ],
   "source": [
    "# Plot Precision Recall Curve\n",
    "plot_precision_recall_curve(rf, X_test, y_test)\n",
    "plt.title('Precision-Recall curve for Random Forest Baseline Model')\n",
    "plt.show()"
   ]
  },
  {
   "cell_type": "code",
   "execution_count": 44,
   "metadata": {},
   "outputs": [
    {
     "data": {
      "image/png": "[encoded data removed]",
      "text/plain": [
       "<Figure size 432x288 with 2 Axes>"
      ]
     },
     "metadata": {
      "needs_background": "light"
     },
     "output_type": "display_data"
    }
   ],
   "source": [
    "# Plot confusion matrix\n",
    "plot_confusion_matrix(rf, X_test, y_test, cmap=plt.cm.Blues)\n",
    "plt.title('Confusion Matrix (Random Forest - baseline model)')\n",
    "plt.show()"
   ]
  },
  {
   "cell_type": "markdown",
   "metadata": {},
   "source": [
    "### Class Weight vs. Upsampling performance - Random Forest"
   ]
  },
  {
   "cell_type": "markdown",
   "metadata": {},
   "source": [
    "##### Class weight performance"
   ]
  },
  {
   "cell_type": "code",
   "execution_count": 45,
   "metadata": {},
   "outputs": [],
   "source": [
    "# Fit the data and predict\n",
    "rf2 = RandomForestClassifier(n_estimators=100, random_state=3, class_weight=weight)\n",
    "rf2.fit(X_train, y_train)\n",
    "y_pred2 = rf2.predict(X_test)"
   ]
  },
  {
   "cell_type": "code",
   "execution_count": 46,
   "metadata": {},
   "outputs": [
    {
     "name": "stdout",
     "output_type": "stream",
     "text": [
      "              precision    recall  f1-score   support\n",
      "\n",
      "           0       0.78      0.67      0.72      6429\n",
      "           1       0.83      0.90      0.86     11970\n",
      "\n",
      "    accuracy                           0.82     18399\n",
      "   macro avg       0.81      0.78      0.79     18399\n",
      "weighted avg       0.81      0.82      0.81     18399\n",
      "\n"
     ]
    }
   ],
   "source": [
    "# Print classification report\n",
    "print(classification_report(y_test, y_pred2))"
   ]
  },
  {
   "cell_type": "code",
   "execution_count": 47,
   "metadata": {},
   "outputs": [
    {
     "data": {
      "image/png": "[encoded data removed]",
      "text/plain": [
       "<Figure size 432x288 with 2 Axes>"
      ]
     },
     "metadata": {
      "needs_background": "light"
     },
     "output_type": "display_data"
    }
   ],
   "source": [
    "# Plot confusion matrix\n",
    "plot_confusion_matrix(rf2, X_test, y_test, cmap=plt.cm.Blues)\n",
    "plt.title('Confusion Matrix (Random Forest - class weight)')\n",
    "plt.show()"
   ]
  },
  {
   "cell_type": "code",
   "execution_count": 48,
   "metadata": {},
   "outputs": [
    {
     "name": "stdout",
     "output_type": "stream",
     "text": [
      "Average cross validation score: 0.863\n"
     ]
    }
   ],
   "source": [
    "# Average cross validation score\n",
    "print('Average cross validation score: %.3f' % cross_val_score(rf2, X_train, y_train, cv=kfold, scoring='f1').mean())"
   ]
  },
  {
   "cell_type": "markdown",
   "metadata": {},
   "source": [
    "##### Upsampling performance"
   ]
  },
  {
   "cell_type": "code",
   "execution_count": 49,
   "metadata": {},
   "outputs": [],
   "source": [
    "# Define X and y\n",
    "X = df_ml.drop('is_open', axis=1)\n",
    "y = df_ml['is_open']\n",
    "\n",
    "# Split the data into train and test sets\n",
    "X_train, X_test, y_train, y_test = train_test_split(X, y, test_size=0.3, random_state=3, stratify=y)"
   ]
  },
  {
   "cell_type": "code",
   "execution_count": 50,
   "metadata": {},
   "outputs": [
    {
     "data": {
      "text/html": [
       "<div>\n",
       "<style scoped>\n",
       "    .dataframe tbody tr th:only-of-type {\n",
       "        vertical-align: middle;\n",
       "    }\n",
       "\n",
       "    .dataframe tbody tr th {\n",
       "        vertical-align: top;\n",
       "    }\n",
       "\n",
       "    .dataframe thead th {\n",
       "        text-align: right;\n",
       "    }\n",
       "</style>\n",
       "<table border=\"1\" class=\"dataframe\">\n",
       "  <thead>\n",
       "    <tr style=\"text-align: right;\">\n",
       "      <th></th>\n",
       "      <th>is_open</th>\n",
       "      <th>attributes.RestaurantsTableService_False</th>\n",
       "      <th>attributes.RestaurantsTableService_Not listed</th>\n",
       "      <th>attributes.RestaurantsTableService_True</th>\n",
       "      <th>attributes.WiFi_'free'</th>\n",
       "      <th>attributes.WiFi_'no'</th>\n",
       "      <th>attributes.WiFi_'paid'</th>\n",
       "      <th>attributes.WiFi_Not listed</th>\n",
       "      <th>attributes.BikeParking_False</th>\n",
       "      <th>attributes.BikeParking_Not listed</th>\n",
       "      <th>...</th>\n",
       "      <th>attributes.lunch_True</th>\n",
       "      <th>attributes.dinner_False</th>\n",
       "      <th>attributes.dinner_Not listed</th>\n",
       "      <th>attributes.dinner_True</th>\n",
       "      <th>attributes.brunch_False</th>\n",
       "      <th>attributes.brunch_Not listed</th>\n",
       "      <th>attributes.brunch_True</th>\n",
       "      <th>attributes.breakfast_False</th>\n",
       "      <th>attributes.breakfast_Not listed</th>\n",
       "      <th>attributes.breakfast_True</th>\n",
       "    </tr>\n",
       "  </thead>\n",
       "  <tbody>\n",
       "    <tr>\n",
       "      <th>4537</th>\n",
       "      <td>1</td>\n",
       "      <td>1</td>\n",
       "      <td>0</td>\n",
       "      <td>0</td>\n",
       "      <td>1</td>\n",
       "      <td>0</td>\n",
       "      <td>0</td>\n",
       "      <td>0</td>\n",
       "      <td>0</td>\n",
       "      <td>0</td>\n",
       "      <td>...</td>\n",
       "      <td>0</td>\n",
       "      <td>1</td>\n",
       "      <td>0</td>\n",
       "      <td>0</td>\n",
       "      <td>1</td>\n",
       "      <td>0</td>\n",
       "      <td>0</td>\n",
       "      <td>1</td>\n",
       "      <td>0</td>\n",
       "      <td>0</td>\n",
       "    </tr>\n",
       "    <tr>\n",
       "      <th>55562</th>\n",
       "      <td>0</td>\n",
       "      <td>0</td>\n",
       "      <td>1</td>\n",
       "      <td>0</td>\n",
       "      <td>0</td>\n",
       "      <td>0</td>\n",
       "      <td>0</td>\n",
       "      <td>1</td>\n",
       "      <td>0</td>\n",
       "      <td>1</td>\n",
       "      <td>...</td>\n",
       "      <td>0</td>\n",
       "      <td>0</td>\n",
       "      <td>1</td>\n",
       "      <td>0</td>\n",
       "      <td>0</td>\n",
       "      <td>1</td>\n",
       "      <td>0</td>\n",
       "      <td>0</td>\n",
       "      <td>1</td>\n",
       "      <td>0</td>\n",
       "    </tr>\n",
       "    <tr>\n",
       "      <th>43077</th>\n",
       "      <td>1</td>\n",
       "      <td>1</td>\n",
       "      <td>0</td>\n",
       "      <td>0</td>\n",
       "      <td>1</td>\n",
       "      <td>0</td>\n",
       "      <td>0</td>\n",
       "      <td>0</td>\n",
       "      <td>0</td>\n",
       "      <td>0</td>\n",
       "      <td>...</td>\n",
       "      <td>0</td>\n",
       "      <td>1</td>\n",
       "      <td>0</td>\n",
       "      <td>0</td>\n",
       "      <td>1</td>\n",
       "      <td>0</td>\n",
       "      <td>0</td>\n",
       "      <td>1</td>\n",
       "      <td>0</td>\n",
       "      <td>0</td>\n",
       "    </tr>\n",
       "    <tr>\n",
       "      <th>8597</th>\n",
       "      <td>1</td>\n",
       "      <td>0</td>\n",
       "      <td>1</td>\n",
       "      <td>0</td>\n",
       "      <td>0</td>\n",
       "      <td>0</td>\n",
       "      <td>0</td>\n",
       "      <td>1</td>\n",
       "      <td>0</td>\n",
       "      <td>1</td>\n",
       "      <td>...</td>\n",
       "      <td>0</td>\n",
       "      <td>0</td>\n",
       "      <td>1</td>\n",
       "      <td>0</td>\n",
       "      <td>0</td>\n",
       "      <td>1</td>\n",
       "      <td>0</td>\n",
       "      <td>0</td>\n",
       "      <td>1</td>\n",
       "      <td>0</td>\n",
       "    </tr>\n",
       "    <tr>\n",
       "      <th>26000</th>\n",
       "      <td>0</td>\n",
       "      <td>0</td>\n",
       "      <td>1</td>\n",
       "      <td>0</td>\n",
       "      <td>0</td>\n",
       "      <td>1</td>\n",
       "      <td>0</td>\n",
       "      <td>0</td>\n",
       "      <td>0</td>\n",
       "      <td>0</td>\n",
       "      <td>...</td>\n",
       "      <td>0</td>\n",
       "      <td>0</td>\n",
       "      <td>1</td>\n",
       "      <td>0</td>\n",
       "      <td>0</td>\n",
       "      <td>1</td>\n",
       "      <td>0</td>\n",
       "      <td>0</td>\n",
       "      <td>1</td>\n",
       "      <td>0</td>\n",
       "    </tr>\n",
       "  </tbody>\n",
       "</table>\n",
       "<p>5 rows × 113 columns</p>\n",
       "</div>"
      ],
      "text/plain": [
       "       is_open  attributes.RestaurantsTableService_False  \\\n",
       "4537         1                                         1   \n",
       "55562        0                                         0   \n",
       "43077        1                                         1   \n",
       "8597         1                                         0   \n",
       "26000        0                                         0   \n",
       "\n",
       "       attributes.RestaurantsTableService_Not listed  \\\n",
       "4537                                               0   \n",
       "55562                                              1   \n",
       "43077                                              0   \n",
       "8597                                               1   \n",
       "26000                                              1   \n",
       "\n",
       "       attributes.RestaurantsTableService_True  attributes.WiFi_'free'  \\\n",
       "4537                                         0                       1   \n",
       "55562                                        0                       0   \n",
       "43077                                        0                       1   \n",
       "8597                                         0                       0   \n",
       "26000                                        0                       0   \n",
       "\n",
       "       attributes.WiFi_'no'  attributes.WiFi_'paid'  \\\n",
       "4537                      0                       0   \n",
       "55562                     0                       0   \n",
       "43077                     0                       0   \n",
       "8597                      0                       0   \n",
       "26000                     1                       0   \n",
       "\n",
       "       attributes.WiFi_Not listed  attributes.BikeParking_False  \\\n",
       "4537                            0                             0   \n",
       "55562                           1                             0   \n",
       "43077                           0                             0   \n",
       "8597                            1                             0   \n",
       "26000                           0                             0   \n",
       "\n",
       "       attributes.BikeParking_Not listed  ...  attributes.lunch_True  \\\n",
       "4537                                   0  ...                      0   \n",
       "55562                                  1  ...                      0   \n",
       "43077                                  0  ...                      0   \n",
       "8597                                   1  ...                      0   \n",
       "26000                                  0  ...                      0   \n",
       "\n",
       "       attributes.dinner_False  attributes.dinner_Not listed  \\\n",
       "4537                         1                             0   \n",
       "55562                        0                             1   \n",
       "43077                        1                             0   \n",
       "8597                         0                             1   \n",
       "26000                        0                             1   \n",
       "\n",
       "       attributes.dinner_True  attributes.brunch_False  \\\n",
       "4537                        0                        1   \n",
       "55562                       0                        0   \n",
       "43077                       0                        1   \n",
       "8597                        0                        0   \n",
       "26000                       0                        0   \n",
       "\n",
       "       attributes.brunch_Not listed  attributes.brunch_True  \\\n",
       "4537                              0                       0   \n",
       "55562                             1                       0   \n",
       "43077                             0                       0   \n",
       "8597                              1                       0   \n",
       "26000                             1                       0   \n",
       "\n",
       "       attributes.breakfast_False  attributes.breakfast_Not listed  \\\n",
       "4537                            1                                0   \n",
       "55562                           0                                1   \n",
       "43077                           1                                0   \n",
       "8597                            0                                1   \n",
       "26000                           0                                1   \n",
       "\n",
       "       attributes.breakfast_True  \n",
       "4537                           0  \n",
       "55562                          0  \n",
       "43077                          0  \n",
       "8597                           0  \n",
       "26000                          0  \n",
       "\n",
       "[5 rows x 113 columns]"
      ]
     },
     "execution_count": 50,
     "metadata": {},
     "output_type": "execute_result"
    }
   ],
   "source": [
    "# Concatenate the training data\n",
    "df_Xy_train = pd.concat([y_train, X_train], axis=1)\n",
    "df_Xy_train.head()"
   ]
  },
  {
   "cell_type": "code",
   "execution_count": 51,
   "metadata": {},
   "outputs": [],
   "source": [
    "# Separate closed and open restaurants\n",
    "df_closed = df_Xy_train[df_Xy_train.is_open == 0]\n",
    "df_open = df_Xy_train[df_Xy_train.is_open == 1]"
   ]
  },
  {
   "cell_type": "code",
   "execution_count": 52,
   "metadata": {},
   "outputs": [
    {
     "name": "stdout",
     "output_type": "stream",
     "text": [
      "From the training set, there are 14999 closed restaurants.\n",
      "From the training set, there are 27930 open restaurants.\n"
     ]
    }
   ],
   "source": [
    "print('From the training set, there are {} closed restaurants.'.format(len(df_closed)))\n",
    "print('From the training set, there are {} open restaurants.'.format(len(df_open)))"
   ]
  },
  {
   "cell_type": "code",
   "execution_count": 53,
   "metadata": {},
   "outputs": [],
   "source": [
    "# Upsample closed restaurants\n",
    "df_closed = resample(df_closed, replace=True, n_samples=len(df_open), random_state=3) "
   ]
  },
  {
   "cell_type": "code",
   "execution_count": 54,
   "metadata": {},
   "outputs": [],
   "source": [
    "# Combine open and upsampled closed restaurants\n",
    "df_upsampled = pd.concat([df_closed, df_open])"
   ]
  },
  {
   "cell_type": "code",
   "execution_count": 55,
   "metadata": {},
   "outputs": [],
   "source": [
    "# Split the upsampled data into X_train and y_train\n",
    "X_train_up = df_upsampled.drop('is_open', axis=1)\n",
    "y_train_up = df_upsampled['is_open']"
   ]
  },
  {
   "cell_type": "code",
   "execution_count": 56,
   "metadata": {},
   "outputs": [],
   "source": [
    "# Fit the data and predict\n",
    "rf3 = RandomForestClassifier(n_estimators=100, random_state=3)\n",
    "rf3.fit(X_train_up, y_train_up)\n",
    "y_pred3 = rf3.predict(X_test)"
   ]
  },
  {
   "cell_type": "code",
   "execution_count": 57,
   "metadata": {},
   "outputs": [
    {
     "name": "stdout",
     "output_type": "stream",
     "text": [
      "              precision    recall  f1-score   support\n",
      "\n",
      "           0       0.76      0.68      0.72      6429\n",
      "           1       0.84      0.89      0.86     11970\n",
      "\n",
      "    accuracy                           0.81     18399\n",
      "   macro avg       0.80      0.78      0.79     18399\n",
      "weighted avg       0.81      0.81      0.81     18399\n",
      "\n"
     ]
    }
   ],
   "source": [
    "# Print classification report\n",
    "print(classification_report(y_test, y_pred3))"
   ]
  },
  {
   "cell_type": "code",
   "execution_count": 58,
   "metadata": {},
   "outputs": [
    {
     "data": {
      "image/png": "[encoded data removed]",
      "text/plain": [
       "<Figure size 432x288 with 2 Axes>"
      ]
     },
     "metadata": {
      "needs_background": "light"
     },
     "output_type": "display_data"
    }
   ],
   "source": [
    "plot_confusion_matrix(rf3, X_test, y_test, cmap=plt.cm.Blues)\n",
    "plt.title('Confusion Matrix (Random Forest - upsampling)')\n",
    "plt.show()"
   ]
  },
  {
   "cell_type": "code",
   "execution_count": 59,
   "metadata": {},
   "outputs": [
    {
     "name": "stdout",
     "output_type": "stream",
     "text": [
      "Average cross validation score: 0.887\n"
     ]
    }
   ],
   "source": [
    "# Print average cross val score\n",
    "print('Average cross validation score: %.3f' % cross_val_score(rf3, X_train_up, y_train_up, cv=kfold, scoring='f1').mean())"
   ]
  },
  {
   "cell_type": "markdown",
   "metadata": {},
   "source": [
    "##### Class weight and Upsampling resulted in same weighted avg f1 scores, but 'upsampling had better average f1 cross validation score"
   ]
  },
  {
   "cell_type": "markdown",
   "metadata": {},
   "source": [
    "### Search for the best hyper parameter using RandomSearchCV - Random Forest"
   ]
  },
  {
   "cell_type": "code",
   "execution_count": 60,
   "metadata": {},
   "outputs": [],
   "source": [
    "# Create the base model to tune\n",
    "rf5 = RandomForestClassifier(random_state=3)\n",
    "\n",
    "random_grid = {'bootstrap': [True, False],\n",
    "                'max_depth': [10, 30, 50, 70, 90, None],\n",
    "                'max_features': ['auto', 'sqrt'],\n",
    "                'min_samples_leaf': [1, 4, 8],\n",
    "                'min_samples_split': [2, 5, 10, 15],\n",
    "                'n_estimators': [50, 100, 150, 200]\n",
    "              }"
   ]
  },
  {
   "cell_type": "code",
   "execution_count": 61,
   "metadata": {},
   "outputs": [],
   "source": [
    "# Use the random grid to search for best hyperparameters\n",
    "rf_random = RandomizedSearchCV(estimator = rf5, \n",
    "                               param_distributions = random_grid, \n",
    "                               cv = kfold, \n",
    "                               verbose=2, \n",
    "                               random_state=3, \n",
    "                               n_jobs = -1\n",
    "                              )"
   ]
  },
  {
   "cell_type": "code",
   "execution_count": 62,
   "metadata": {},
   "outputs": [
    {
     "name": "stdout",
     "output_type": "stream",
     "text": [
      "Fitting 5 folds for each of 10 candidates, totalling 50 fits\n"
     ]
    },
    {
     "name": "stderr",
     "output_type": "stream",
     "text": [
      "[Parallel(n_jobs=-1)]: Using backend LokyBackend with 8 concurrent workers.\n",
      "[Parallel(n_jobs=-1)]: Done  25 tasks      | elapsed:  1.1min\n",
      "[Parallel(n_jobs=-1)]: Done  50 out of  50 | elapsed:  3.4min finished\n"
     ]
    },
    {
     "data": {
      "text/plain": [
       "RandomizedSearchCV(cv=KFold(n_splits=5, random_state=3, shuffle=True),\n",
       "                   estimator=RandomForestClassifier(random_state=3), n_jobs=-1,\n",
       "                   param_distributions={'bootstrap': [True, False],\n",
       "                                        'max_depth': [10, 30, 50, 70, 90, None],\n",
       "                                        'max_features': ['auto', 'sqrt'],\n",
       "                                        'min_samples_leaf': [1, 4, 8],\n",
       "                                        'min_samples_split': [2, 5, 10, 15],\n",
       "                                        'n_estimators': [50, 100, 150, 200]},\n",
       "                   random_state=3, verbose=2)"
      ]
     },
     "execution_count": 62,
     "metadata": {},
     "output_type": "execute_result"
    }
   ],
   "source": [
    "# Fit the random search model (using upsampled samples this time)\n",
    "rf_random.fit(X_train_up, y_train_up)"
   ]
  },
  {
   "cell_type": "code",
   "execution_count": 63,
   "metadata": {},
   "outputs": [
    {
     "name": "stdout",
     "output_type": "stream",
     "text": [
      "{'n_estimators': 100, 'min_samples_split': 5, 'min_samples_leaf': 1, 'max_features': 'sqrt', 'max_depth': 70, 'bootstrap': False}\n"
     ]
    }
   ],
   "source": [
    "print(rf_random.best_params_)"
   ]
  },
  {
   "cell_type": "code",
   "execution_count": 64,
   "metadata": {},
   "outputs": [],
   "source": [
    "# Fit the data and predict\n",
    "rf6 = RandomForestClassifier(**rf_random.best_params_, random_state=3)\n",
    "rf6.fit(X_train_up, y_train_up)\n",
    "y_pred6 = rf6.predict(X_test)"
   ]
  },
  {
   "cell_type": "code",
   "execution_count": 65,
   "metadata": {},
   "outputs": [
    {
     "name": "stdout",
     "output_type": "stream",
     "text": [
      "              precision    recall  f1-score   support\n",
      "\n",
      "           0       0.78      0.66      0.71      6429\n",
      "           1       0.83      0.90      0.86     11970\n",
      "\n",
      "    accuracy                           0.81     18399\n",
      "   macro avg       0.80      0.78      0.79     18399\n",
      "weighted avg       0.81      0.81      0.81     18399\n",
      "\n"
     ]
    }
   ],
   "source": [
    "print(classification_report(y_test, y_pred6))"
   ]
  },
  {
   "cell_type": "code",
   "execution_count": 66,
   "metadata": {},
   "outputs": [
    {
     "data": {
      "image/png": "[encoded data removed]",
      "text/plain": [
       "<Figure size 432x288 with 2 Axes>"
      ]
     },
     "metadata": {
      "needs_background": "light"
     },
     "output_type": "display_data"
    }
   ],
   "source": [
    "# Plot confusion matrix\n",
    "plot_confusion_matrix(rf6, X_test, y_test, cmap=plt.cm.Blues)\n",
    "plt.title('Confusion Matrix (Random Forest - Best hyperparameters)')\n",
    "plt.show()"
   ]
  },
  {
   "cell_type": "code",
   "execution_count": 67,
   "metadata": {},
   "outputs": [
    {
     "name": "stdout",
     "output_type": "stream",
     "text": [
      "Average cross validation score: 0.893\n"
     ]
    }
   ],
   "source": [
    "# Print average cross val score\n",
    "print('Average cross validation score: %.3f' % cross_val_score(rf6, X_train_up, y_train_up, cv=kfold, scoring='f1').mean())"
   ]
  },
  {
   "cell_type": "markdown",
   "metadata": {},
   "source": [
    "#### RandomSearchCV did not improve weighted avg f1 scores for Random Forest. \n",
    "### Best weighted average f1 score was 0.81, while best cross validation score with 5-kfold was 0.89"
   ]
  },
  {
   "cell_type": "markdown",
   "metadata": {},
   "source": [
    "# Attributes - XGBOOST"
   ]
  },
  {
   "cell_type": "markdown",
   "metadata": {},
   "source": [
    "### XGBoost Baseline model - Attributes"
   ]
  },
  {
   "cell_type": "code",
   "execution_count": 68,
   "metadata": {},
   "outputs": [],
   "source": [
    "# Instantiate XGB\n",
    "xgb_classifier = xgb.XGBClassifier(objective = 'binary:logistic', scale_pos_weight=weight[0], random_state=3)"
   ]
  },
  {
   "cell_type": "markdown",
   "metadata": {},
   "source": [
    "scale_pos_weight for imbalanced dataset"
   ]
  },
  {
   "cell_type": "code",
   "execution_count": 69,
   "metadata": {},
   "outputs": [
    {
     "name": "stdout",
     "output_type": "stream",
     "text": [
      "[11:28:32] WARNING: C:/Users/Administrator/workspace/xgboost-win64_release_1.4.0/src/learner.cc:1095: Starting in XGBoost 1.3.0, the default evaluation metric used with the objective 'binary:logistic' was changed from 'error' to 'logloss'. Explicitly set eval_metric if you'd like to restore the old behavior.\n"
     ]
    }
   ],
   "source": [
    "# Fit and predict\n",
    "xgb_classifier.fit(X_train, y_train)\n",
    "y_pred = xgb_classifier.predict(X_test)"
   ]
  },
  {
   "cell_type": "code",
   "execution_count": 70,
   "metadata": {},
   "outputs": [
    {
     "name": "stdout",
     "output_type": "stream",
     "text": [
      "              precision    recall  f1-score   support\n",
      "\n",
      "           0       0.87      0.59      0.70      6429\n",
      "           1       0.81      0.95      0.88     11970\n",
      "\n",
      "    accuracy                           0.83     18399\n",
      "   macro avg       0.84      0.77      0.79     18399\n",
      "weighted avg       0.83      0.83      0.82     18399\n",
      "\n"
     ]
    }
   ],
   "source": [
    "print(classification_report(y_test, y_pred))"
   ]
  },
  {
   "cell_type": "code",
   "execution_count": 71,
   "metadata": {},
   "outputs": [
    {
     "data": {
      "image/png": "[encoded data removed]",
      "text/plain": [
       "<Figure size 432x288 with 2 Axes>"
      ]
     },
     "metadata": {
      "needs_background": "light"
     },
     "output_type": "display_data"
    }
   ],
   "source": [
    "# Plot confusion matrix\n",
    "plot_confusion_matrix(xgb_classifier, X_test, y_test, cmap=plt.cm.Blues)\n",
    "plt.title('Confusion Matrix (XGBoost - Baseline model)')\n",
    "plt.show()"
   ]
  },
  {
   "cell_type": "code",
   "execution_count": 72,
   "metadata": {},
   "outputs": [
    {
     "data": {
      "image/png": "[encoded data removed]",
      "text/plain": [
       "<Figure size 432x288 with 1 Axes>"
      ]
     },
     "metadata": {
      "needs_background": "light"
     },
     "output_type": "display_data"
    }
   ],
   "source": [
    "# Plot Precision Recall Curve\n",
    "plot_precision_recall_curve(xgb_classifier, X_test, y_test)\n",
    "plt.title('Precision-Recall curve for XGBoost Baseline Model')\n",
    "plt.show()"
   ]
  },
  {
   "cell_type": "markdown",
   "metadata": {},
   "source": [
    "### Search for the best hyper parameter using RandomSearchCV - XGBoost"
   ]
  },
  {
   "cell_type": "code",
   "execution_count": 76,
   "metadata": {},
   "outputs": [],
   "source": [
    "# Define parameters\n",
    "xgb_classifier2 =  xgb.XGBClassifier(objective = 'binary:logistic', scale_pos_weight=weight[0], random_state=3)\n",
    "\n",
    "random_grid = {'n_estimators': [75, 100, 125],\n",
    "              'learning_rate': [0.05, 0.1, 0.2, 0.3],\n",
    "              'subsample': [0.6, 0.8, 1.0],\n",
    "              'max_depth': [5, 10, 15],\n",
    "              'colsample_bytree': [0.7, 1.0, 1.3],\n",
    "              'min_child_weight': [1, 5, 10]\n",
    "             }"
   ]
  },
  {
   "cell_type": "code",
   "execution_count": 77,
   "metadata": {},
   "outputs": [],
   "source": [
    "# Set up RandomSearch\n",
    "xgb_random = RandomizedSearchCV(xgb_classifier2, \n",
    "                                param_distributions = random_grid,\n",
    "                                cv = kfold,\n",
    "                                n_iter=5,\n",
    "                                scoring = 'f1', \n",
    "                                random_state=3, \n",
    "                                verbose = 2, \n",
    "                                n_jobs = -1)"
   ]
  },
  {
   "cell_type": "code",
   "execution_count": 78,
   "metadata": {},
   "outputs": [
    {
     "name": "stdout",
     "output_type": "stream",
     "text": [
      "Fitting 5 folds for each of 5 candidates, totalling 25 fits\n"
     ]
    },
    {
     "name": "stderr",
     "output_type": "stream",
     "text": [
      "[Parallel(n_jobs=-1)]: Using backend LokyBackend with 8 concurrent workers.\n",
      "[Parallel(n_jobs=-1)]: Done  23 out of  25 | elapsed:  1.8min remaining:    9.5s\n",
      "[Parallel(n_jobs=-1)]: Done  25 out of  25 | elapsed:  1.9min finished\n"
     ]
    },
    {
     "name": "stdout",
     "output_type": "stream",
     "text": [
      "[11:32:31] WARNING: C:/Users/Administrator/workspace/xgboost-win64_release_1.4.0/src/learner.cc:1095: Starting in XGBoost 1.3.0, the default evaluation metric used with the objective 'binary:logistic' was changed from 'error' to 'logloss'. Explicitly set eval_metric if you'd like to restore the old behavior.\n"
     ]
    },
    {
     "data": {
      "text/plain": [
       "RandomizedSearchCV(cv=KFold(n_splits=5, random_state=3, shuffle=True),\n",
       "                   estimator=XGBClassifier(base_score=None, booster=None,\n",
       "                                           colsample_bylevel=None,\n",
       "                                           colsample_bynode=None,\n",
       "                                           colsample_bytree=None, gamma=None,\n",
       "                                           gpu_id=None, importance_type='gain',\n",
       "                                           interaction_constraints=None,\n",
       "                                           learning_rate=None,\n",
       "                                           max_delta_step=None, max_depth=None,\n",
       "                                           min_child_weight=None, missing=nan...\n",
       "                                           scale_pos_weight=1.8620496546574576,\n",
       "                                           subsample=None, tree_method=None,\n",
       "                                           validate_parameters=None,\n",
       "                                           verbosity=None),\n",
       "                   n_iter=5, n_jobs=-1,\n",
       "                   param_distributions={'colsample_bytree': [0.7, 1.0, 1.3],\n",
       "                                        'learning_rate': [0.05, 0.1, 0.2, 0.3],\n",
       "                                        'max_depth': [5, 10, 15],\n",
       "                                        'min_child_weight': [1, 5, 10],\n",
       "                                        'n_estimators': [75, 100, 125],\n",
       "                                        'subsample': [0.6, 0.8, 1.0]},\n",
       "                   random_state=3, scoring='f1', verbose=2)"
      ]
     },
     "execution_count": 78,
     "metadata": {},
     "output_type": "execute_result"
    }
   ],
   "source": [
    "# Fit the random search model\n",
    "xgb_random.fit(X_train, y_train)"
   ]
  },
  {
   "cell_type": "code",
   "execution_count": 79,
   "metadata": {},
   "outputs": [
    {
     "name": "stdout",
     "output_type": "stream",
     "text": [
      "{'subsample': 0.6, 'n_estimators': 125, 'min_child_weight': 1, 'max_depth': 5, 'learning_rate': 0.3, 'colsample_bytree': 0.7}\n"
     ]
    }
   ],
   "source": [
    "print(xgb_random.best_params_)"
   ]
  },
  {
   "cell_type": "code",
   "execution_count": 80,
   "metadata": {},
   "outputs": [],
   "source": [
    "# Instantiate with best params\n",
    "xgb_classifier3 = xgb.XGBClassifier(objective = 'binary:logistic', \n",
    "                                    scale_pos_weight=weight[0], \n",
    "                                    random_state=3,\n",
    "                                    **xgb_random.best_params_)"
   ]
  },
  {
   "cell_type": "code",
   "execution_count": 81,
   "metadata": {},
   "outputs": [
    {
     "name": "stdout",
     "output_type": "stream",
     "text": [
      "[11:32:37] WARNING: C:/Users/Administrator/workspace/xgboost-win64_release_1.4.0/src/learner.cc:1095: Starting in XGBoost 1.3.0, the default evaluation metric used with the objective 'binary:logistic' was changed from 'error' to 'logloss'. Explicitly set eval_metric if you'd like to restore the old behavior.\n"
     ]
    }
   ],
   "source": [
    "# Fit and predict\n",
    "xgb_classifier3.fit(X_train, y_train)\n",
    "y_pred3 = xgb_classifier3.predict(X_test)"
   ]
  },
  {
   "cell_type": "code",
   "execution_count": 82,
   "metadata": {},
   "outputs": [
    {
     "name": "stdout",
     "output_type": "stream",
     "text": [
      "              precision    recall  f1-score   support\n",
      "\n",
      "           0       0.87      0.59      0.70      6429\n",
      "           1       0.81      0.95      0.88     11970\n",
      "\n",
      "    accuracy                           0.83     18399\n",
      "   macro avg       0.84      0.77      0.79     18399\n",
      "weighted avg       0.83      0.83      0.82     18399\n",
      "\n"
     ]
    }
   ],
   "source": [
    "print(classification_report(y_test, y_pred3))"
   ]
  },
  {
   "cell_type": "code",
   "execution_count": 83,
   "metadata": {},
   "outputs": [
    {
     "data": {
      "image/png": "[encoded data removed]",
      "text/plain": [
       "<Figure size 432x288 with 2 Axes>"
      ]
     },
     "metadata": {
      "needs_background": "light"
     },
     "output_type": "display_data"
    }
   ],
   "source": [
    "# Plot confusion matrix\n",
    "plot_confusion_matrix(xgb_classifier3, X_test, y_test, cmap=plt.cm.Blues)\n",
    "plt.title('Confusion Matrix (XGBoost - Best Hyperparameters)')\n",
    "plt.show()"
   ]
  },
  {
   "cell_type": "code",
   "execution_count": 84,
   "metadata": {},
   "outputs": [
    {
     "name": "stdout",
     "output_type": "stream",
     "text": [
      "[11:32:43] WARNING: C:/Users/Administrator/workspace/xgboost-win64_release_1.4.0/src/learner.cc:1095: Starting in XGBoost 1.3.0, the default evaluation metric used with the objective 'binary:logistic' was changed from 'error' to 'logloss'. Explicitly set eval_metric if you'd like to restore the old behavior.\n",
      "[11:32:49] WARNING: C:/Users/Administrator/workspace/xgboost-win64_release_1.4.0/src/learner.cc:1095: Starting in XGBoost 1.3.0, the default evaluation metric used with the objective 'binary:logistic' was changed from 'error' to 'logloss'. Explicitly set eval_metric if you'd like to restore the old behavior.\n",
      "[11:32:53] WARNING: C:/Users/Administrator/workspace/xgboost-win64_release_1.4.0/src/learner.cc:1095: Starting in XGBoost 1.3.0, the default evaluation metric used with the objective 'binary:logistic' was changed from 'error' to 'logloss'. Explicitly set eval_metric if you'd like to restore the old behavior.\n",
      "[11:32:58] WARNING: C:/Users/Administrator/workspace/xgboost-win64_release_1.4.0/src/learner.cc:1095: Starting in XGBoost 1.3.0, the default evaluation metric used with the objective 'binary:logistic' was changed from 'error' to 'logloss'. Explicitly set eval_metric if you'd like to restore the old behavior.\n",
      "[11:33:02] WARNING: C:/Users/Administrator/workspace/xgboost-win64_release_1.4.0/src/learner.cc:1095: Starting in XGBoost 1.3.0, the default evaluation metric used with the objective 'binary:logistic' was changed from 'error' to 'logloss'. Explicitly set eval_metric if you'd like to restore the old behavior.\n",
      "Average cross validation score: 0.874\n"
     ]
    }
   ],
   "source": [
    "# Print average cross val score\n",
    "print('Average cross validation score: %.3f' % cross_val_score(xgb_classifier3, X_train, y_train, cv=kfold, scoring='f1').mean())"
   ]
  },
  {
   "cell_type": "markdown",
   "metadata": {},
   "source": [
    "#### RandomSearchCV did not improve weighted avg f1 scores for XGBoost. \n",
    "### Best weighted average f1 score was 0.82, while best cross validation score with 5-kfold was 0.87"
   ]
  },
  {
   "cell_type": "markdown",
   "metadata": {},
   "source": [
    "# Attributes - Keras"
   ]
  },
  {
   "cell_type": "code",
   "execution_count": 85,
   "metadata": {},
   "outputs": [],
   "source": [
    "# Keras doesn't have f1, so define functions\n",
    "def recall_m(y_true, y_pred):\n",
    "    true_positives = K.sum(K.round(K.clip(y_true * y_pred, 0, 1)))\n",
    "    possible_positives = K.sum(K.round(K.clip(y_true, 0, 1)))\n",
    "    recall = true_positives / (possible_positives + K.epsilon())\n",
    "    return recall\n",
    "\n",
    "def precision_m(y_true, y_pred):\n",
    "    true_positives = K.sum(K.round(K.clip(y_true * y_pred, 0, 1)))\n",
    "    predicted_positives = K.sum(K.round(K.clip(y_pred, 0, 1)))\n",
    "    precision = true_positives / (predicted_positives + K.epsilon())\n",
    "    return precision\n",
    "\n",
    "def f1_m(y_true, y_pred):\n",
    "    precision = precision_m(y_true, y_pred)\n",
    "    recall = recall_m(y_true, y_pred)\n",
    "    return 2*((precision*recall)/(precision+recall+K.epsilon()))"
   ]
  },
  {
   "cell_type": "code",
   "execution_count": 86,
   "metadata": {
    "scrolled": true
   },
   "outputs": [
    {
     "name": "stdout",
     "output_type": "stream",
     "text": [
      "Epoch 1/10\n",
      "940/940 [==============================] - 7s 3ms/step - loss: 0.8069 - acc: 0.6951 - f1_m: 0.7174 - precision_m: 0.7929 - recall_m: 0.6948 - val_loss: 0.5595 - val_acc: 0.7867 - val_f1_m: 0.8432 - val_precision_m: 0.7977 - val_recall_m: 0.9006\n",
      "Epoch 2/10\n",
      "940/940 [==============================] - 3s 3ms/step - loss: 0.8543 - acc: 0.7146 - f1_m: 0.7408 - precision_m: 0.8054 - recall_m: 0.7210 - val_loss: 0.6244 - val_acc: 0.7374 - val_f1_m: 0.8258 - val_precision_m: 0.7205 - val_recall_m: 0.9752\n",
      "Epoch 3/10\n",
      "940/940 [==============================] - 3s 3ms/step - loss: 0.7249 - acc: 0.7628 - f1_m: 0.8036 - precision_m: 0.8321 - recall_m: 0.8011 - val_loss: 0.4692 - val_acc: 0.8066 - val_f1_m: 0.8538 - val_precision_m: 0.8269 - val_recall_m: 0.8885\n",
      "Epoch 4/10\n",
      "940/940 [==============================] - 3s 3ms/step - loss: 0.8118 - acc: 0.6722 - f1_m: 0.6647 - precision_m: 0.7257 - recall_m: 0.6343 - val_loss: 0.5326 - val_acc: 0.7607 - val_f1_m: 0.8075 - val_precision_m: 0.8343 - val_recall_m: 0.7897\n",
      "Epoch 5/10\n",
      "940/940 [==============================] - 3s 3ms/step - loss: 0.6808 - acc: 0.7702 - f1_m: 0.8078 - precision_m: 0.8549 - recall_m: 0.7809 - val_loss: 0.6260 - val_acc: 0.5920 - val_f1_m: 0.5697 - val_precision_m: 0.8864 - val_recall_m: 0.4291\n",
      "Epoch 6/10\n",
      "940/940 [==============================] - 3s 3ms/step - loss: 0.6452 - acc: 0.7870 - f1_m: 0.8271 - precision_m: 0.8590 - recall_m: 0.8099 - val_loss: 0.4825 - val_acc: 0.8150 - val_f1_m: 0.8581 - val_precision_m: 0.8437 - val_recall_m: 0.8788\n",
      "Epoch 7/10\n",
      "940/940 [==============================] - 3s 3ms/step - loss: 0.6809 - acc: 0.7523 - f1_m: 0.7703 - precision_m: 0.8185 - recall_m: 0.7588 - val_loss: 0.5035 - val_acc: 0.8008 - val_f1_m: 0.8425 - val_precision_m: 0.8548 - val_recall_m: 0.8368\n",
      "Epoch 8/10\n",
      "940/940 [==============================] - 3s 3ms/step - loss: 0.7955 - acc: 0.6876 - f1_m: 0.6670 - precision_m: 0.7994 - recall_m: 0.6239 - val_loss: 0.5102 - val_acc: 0.8139 - val_f1_m: 0.8640 - val_precision_m: 0.8124 - val_recall_m: 0.9287\n",
      "Epoch 9/10\n",
      "940/940 [==============================] - 3s 3ms/step - loss: 0.6784 - acc: 0.7834 - f1_m: 0.8175 - precision_m: 0.8569 - recall_m: 0.8051 - val_loss: 0.5003 - val_acc: 0.8091 - val_f1_m: 0.8517 - val_precision_m: 0.8470 - val_recall_m: 0.8625\n",
      "Epoch 10/10\n",
      "940/940 [==============================] - 3s 3ms/step - loss: 0.6713 - acc: 0.7323 - f1_m: 0.7330 - precision_m: 0.8235 - recall_m: 0.6996 - val_loss: 0.4738 - val_acc: 0.8087 - val_f1_m: 0.8543 - val_precision_m: 0.8353 - val_recall_m: 0.8802\n"
     ]
    }
   ],
   "source": [
    "# Define then run the Keras model\n",
    "np.random.seed(42)\n",
    "tf.random.set_seed(42)\n",
    "\n",
    "model = keras.models.Sequential([\n",
    "    keras.layers.Dense(128, activation='relu'),\n",
    "    keras.layers.Dense(128, activation='relu'),\n",
    "    keras.layers.Dense(128, activation='relu'),\n",
    "    keras.layers.Dense(128, activation='relu'),\n",
    "    keras.layers.Dense(128, activation='relu'),\n",
    "    keras.layers.Dense(1)\n",
    "])\n",
    "\n",
    "# compile the model\n",
    "model.compile(loss='binary_crossentropy', optimizer='adam', metrics=['acc', f1_m, precision_m, recall_m])\n",
    "\n",
    "# fit the model\n",
    "hist = model.fit(np.array(X_train), np.array(y_train), epochs=10, validation_split=0.3, class_weight=weight)"
   ]
  },
  {
   "cell_type": "code",
   "execution_count": 87,
   "metadata": {},
   "outputs": [],
   "source": [
    "# Evaluate the model\n",
    "loss, accuracy, f1_score, precision, recall = model.evaluate(X_test, y_test, verbose=0)"
   ]
  },
  {
   "cell_type": "code",
   "execution_count": 88,
   "metadata": {},
   "outputs": [
    {
     "name": "stdout",
     "output_type": "stream",
     "text": [
      "Keras Model F1 score from Keras is 0.8555076122283936\n"
     ]
    }
   ],
   "source": [
    "# Print f1 score\n",
    "print('Keras Model F1 score from Keras is {}'.format(f1_score))"
   ]
  },
  {
   "cell_type": "code",
   "execution_count": 89,
   "metadata": {},
   "outputs": [],
   "source": [
    "# Predict\n",
    "y_pred = model.predict_classes(np.array(X_test))"
   ]
  },
  {
   "cell_type": "code",
   "execution_count": 90,
   "metadata": {},
   "outputs": [
    {
     "name": "stdout",
     "output_type": "stream",
     "text": [
      "              precision    recall  f1-score   support\n",
      "\n",
      "           0       0.75      0.68      0.72      6429\n",
      "           1       0.84      0.88      0.86     11970\n",
      "\n",
      "    accuracy                           0.81     18399\n",
      "   macro avg       0.80      0.78      0.79     18399\n",
      "weighted avg       0.81      0.81      0.81     18399\n",
      "\n"
     ]
    }
   ],
   "source": [
    "print(classification_report(y_test, y_pred))"
   ]
  },
  {
   "cell_type": "markdown",
   "metadata": {},
   "source": [
    "### Best model f1 score was 0.86, while weighted average was 0.81"
   ]
  },
  {
   "cell_type": "code",
   "execution_count": null,
   "metadata": {},
   "outputs": [],
   "source": []
  }
 ],
 "metadata": {
  "kernelspec": {
   "display_name": "Python 3",
   "language": "python",
   "name": "python3"
  },
  "language_info": {
   "codemirror_mode": {
    "name": "ipython",
    "version": 3
   },
   "file_extension": ".py",
   "mimetype": "text/x-python",
   "name": "python",
   "nbconvert_exporter": "python",
   "pygments_lexer": "ipython3",
   "version": "3.8.5"
  }
 },
 "nbformat": 4,
 "nbformat_minor": 2
}
